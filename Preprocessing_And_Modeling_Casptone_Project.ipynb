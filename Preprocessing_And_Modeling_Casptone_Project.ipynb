{
 "cells": [
  {
   "cell_type": "markdown",
   "metadata": {
    "id": "Jz0CZnnhUHaq"
   },
   "source": [
    "## Capstone Three: Modeling and Processing\n",
    "\n",
    "## Stages Of The Project\n",
    " 1. Load Relevant Libraries/Modules \n",
    " 2. Remove unnnecessary white spacing on respective strings in the `Description` column\n",
    " 3. Group `CustomerID` and `Description` while adding quantity for each item into DataFrame\n",
    " 4. One-hot encode the entire DataFrame \n",
    " 5. Filter DataFrame for items purchased more than once"
   ]
  },
  {
   "cell_type": "markdown",
   "metadata": {
    "id": "a7ABhchxc_m2"
   },
   "source": [
    "## Load Relevant Libraries"
   ]
  },
  {
   "cell_type": "code",
   "execution_count": 1,
   "metadata": {
    "id": "_L83WHhdam0R"
   },
   "outputs": [],
   "source": [
    "import pandas as pd\n",
    "from mlxtend.frequent_patterns import apriori, association_rules\n",
    "from pycaret.arules import *"
   ]
  },
  {
   "cell_type": "markdown",
   "metadata": {
    "id": "L_ZjapWAeIBS"
   },
   "source": [
    "### Load The Data"
   ]
  },
  {
   "cell_type": "code",
   "execution_count": 2,
   "metadata": {
    "colab": {
     "base_uri": "https://localhost:8080/",
     "height": 933
    },
    "id": "6pR1aTLicceL",
    "outputId": "9963de70-b206-4b31-b5b1-ea5713760445"
   },
   "outputs": [
    {
     "data": {
      "text/html": [
       "<div>\n",
       "<style scoped>\n",
       "    .dataframe tbody tr th:only-of-type {\n",
       "        vertical-align: middle;\n",
       "    }\n",
       "\n",
       "    .dataframe tbody tr th {\n",
       "        vertical-align: top;\n",
       "    }\n",
       "\n",
       "    .dataframe thead th {\n",
       "        text-align: right;\n",
       "    }\n",
       "</style>\n",
       "<table border=\"1\" class=\"dataframe\">\n",
       "  <thead>\n",
       "    <tr style=\"text-align: right;\">\n",
       "      <th></th>\n",
       "      <th>InvoiceNo</th>\n",
       "      <th>StockCode</th>\n",
       "      <th>Description</th>\n",
       "      <th>Quantity</th>\n",
       "      <th>InvoiceDate</th>\n",
       "      <th>UnitPrice</th>\n",
       "      <th>CustomerID</th>\n",
       "      <th>Country</th>\n",
       "      <th>TotalAmount</th>\n",
       "      <th>Year</th>\n",
       "      <th>Hour</th>\n",
       "      <th>Month</th>\n",
       "    </tr>\n",
       "  </thead>\n",
       "  <tbody>\n",
       "    <tr>\n",
       "      <th>0</th>\n",
       "      <td>536365</td>\n",
       "      <td>85123A</td>\n",
       "      <td>WHITE HANGING HEART T-LIGHT HOLDER</td>\n",
       "      <td>6</td>\n",
       "      <td>2010-12-01 08:26:00</td>\n",
       "      <td>2.55</td>\n",
       "      <td>17850</td>\n",
       "      <td>United Kingdom</td>\n",
       "      <td>15.30</td>\n",
       "      <td>2010</td>\n",
       "      <td>8</td>\n",
       "      <td>12</td>\n",
       "    </tr>\n",
       "    <tr>\n",
       "      <th>1</th>\n",
       "      <td>536365</td>\n",
       "      <td>71053</td>\n",
       "      <td>WHITE METAL LANTERN</td>\n",
       "      <td>6</td>\n",
       "      <td>2010-12-01 08:26:00</td>\n",
       "      <td>3.39</td>\n",
       "      <td>17850</td>\n",
       "      <td>United Kingdom</td>\n",
       "      <td>20.34</td>\n",
       "      <td>2010</td>\n",
       "      <td>8</td>\n",
       "      <td>12</td>\n",
       "    </tr>\n",
       "    <tr>\n",
       "      <th>2</th>\n",
       "      <td>536365</td>\n",
       "      <td>84406B</td>\n",
       "      <td>CREAM CUPID HEARTS COAT HANGER</td>\n",
       "      <td>8</td>\n",
       "      <td>2010-12-01 08:26:00</td>\n",
       "      <td>2.75</td>\n",
       "      <td>17850</td>\n",
       "      <td>United Kingdom</td>\n",
       "      <td>22.00</td>\n",
       "      <td>2010</td>\n",
       "      <td>8</td>\n",
       "      <td>12</td>\n",
       "    </tr>\n",
       "    <tr>\n",
       "      <th>3</th>\n",
       "      <td>536365</td>\n",
       "      <td>84029G</td>\n",
       "      <td>KNITTED UNION FLAG HOT WATER BOTTLE</td>\n",
       "      <td>6</td>\n",
       "      <td>2010-12-01 08:26:00</td>\n",
       "      <td>3.39</td>\n",
       "      <td>17850</td>\n",
       "      <td>United Kingdom</td>\n",
       "      <td>20.34</td>\n",
       "      <td>2010</td>\n",
       "      <td>8</td>\n",
       "      <td>12</td>\n",
       "    </tr>\n",
       "    <tr>\n",
       "      <th>4</th>\n",
       "      <td>536365</td>\n",
       "      <td>84029E</td>\n",
       "      <td>RED WOOLLY HOTTIE WHITE HEART.</td>\n",
       "      <td>6</td>\n",
       "      <td>2010-12-01 08:26:00</td>\n",
       "      <td>3.39</td>\n",
       "      <td>17850</td>\n",
       "      <td>United Kingdom</td>\n",
       "      <td>20.34</td>\n",
       "      <td>2010</td>\n",
       "      <td>8</td>\n",
       "      <td>12</td>\n",
       "    </tr>\n",
       "    <tr>\n",
       "      <th>5</th>\n",
       "      <td>536365</td>\n",
       "      <td>22752</td>\n",
       "      <td>SET 7 BABUSHKA NESTING BOXES</td>\n",
       "      <td>2</td>\n",
       "      <td>2010-12-01 08:26:00</td>\n",
       "      <td>7.65</td>\n",
       "      <td>17850</td>\n",
       "      <td>United Kingdom</td>\n",
       "      <td>15.30</td>\n",
       "      <td>2010</td>\n",
       "      <td>8</td>\n",
       "      <td>12</td>\n",
       "    </tr>\n",
       "    <tr>\n",
       "      <th>6</th>\n",
       "      <td>536365</td>\n",
       "      <td>21730</td>\n",
       "      <td>GLASS STAR FROSTED T-LIGHT HOLDER</td>\n",
       "      <td>6</td>\n",
       "      <td>2010-12-01 08:26:00</td>\n",
       "      <td>4.25</td>\n",
       "      <td>17850</td>\n",
       "      <td>United Kingdom</td>\n",
       "      <td>25.50</td>\n",
       "      <td>2010</td>\n",
       "      <td>8</td>\n",
       "      <td>12</td>\n",
       "    </tr>\n",
       "    <tr>\n",
       "      <th>7</th>\n",
       "      <td>536366</td>\n",
       "      <td>22633</td>\n",
       "      <td>HAND WARMER UNION JACK</td>\n",
       "      <td>6</td>\n",
       "      <td>2010-12-01 08:28:00</td>\n",
       "      <td>1.85</td>\n",
       "      <td>17850</td>\n",
       "      <td>United Kingdom</td>\n",
       "      <td>11.10</td>\n",
       "      <td>2010</td>\n",
       "      <td>8</td>\n",
       "      <td>12</td>\n",
       "    </tr>\n",
       "    <tr>\n",
       "      <th>8</th>\n",
       "      <td>536366</td>\n",
       "      <td>22632</td>\n",
       "      <td>HAND WARMER RED POLKA DOT</td>\n",
       "      <td>6</td>\n",
       "      <td>2010-12-01 08:28:00</td>\n",
       "      <td>1.85</td>\n",
       "      <td>17850</td>\n",
       "      <td>United Kingdom</td>\n",
       "      <td>11.10</td>\n",
       "      <td>2010</td>\n",
       "      <td>8</td>\n",
       "      <td>12</td>\n",
       "    </tr>\n",
       "    <tr>\n",
       "      <th>9</th>\n",
       "      <td>536367</td>\n",
       "      <td>84879</td>\n",
       "      <td>ASSORTED COLOUR BIRD ORNAMENT</td>\n",
       "      <td>32</td>\n",
       "      <td>2010-12-01 08:34:00</td>\n",
       "      <td>1.69</td>\n",
       "      <td>13047</td>\n",
       "      <td>United Kingdom</td>\n",
       "      <td>54.08</td>\n",
       "      <td>2010</td>\n",
       "      <td>8</td>\n",
       "      <td>12</td>\n",
       "    </tr>\n",
       "  </tbody>\n",
       "</table>\n",
       "</div>"
      ],
      "text/plain": [
       "   InvoiceNo StockCode                          Description  Quantity  \\\n",
       "0     536365    85123A   WHITE HANGING HEART T-LIGHT HOLDER         6   \n",
       "1     536365     71053                  WHITE METAL LANTERN         6   \n",
       "2     536365    84406B       CREAM CUPID HEARTS COAT HANGER         8   \n",
       "3     536365    84029G  KNITTED UNION FLAG HOT WATER BOTTLE         6   \n",
       "4     536365    84029E       RED WOOLLY HOTTIE WHITE HEART.         6   \n",
       "5     536365     22752         SET 7 BABUSHKA NESTING BOXES         2   \n",
       "6     536365     21730    GLASS STAR FROSTED T-LIGHT HOLDER         6   \n",
       "7     536366     22633               HAND WARMER UNION JACK         6   \n",
       "8     536366     22632            HAND WARMER RED POLKA DOT         6   \n",
       "9     536367     84879        ASSORTED COLOUR BIRD ORNAMENT        32   \n",
       "\n",
       "           InvoiceDate  UnitPrice  CustomerID         Country  TotalAmount  \\\n",
       "0  2010-12-01 08:26:00       2.55       17850  United Kingdom        15.30   \n",
       "1  2010-12-01 08:26:00       3.39       17850  United Kingdom        20.34   \n",
       "2  2010-12-01 08:26:00       2.75       17850  United Kingdom        22.00   \n",
       "3  2010-12-01 08:26:00       3.39       17850  United Kingdom        20.34   \n",
       "4  2010-12-01 08:26:00       3.39       17850  United Kingdom        20.34   \n",
       "5  2010-12-01 08:26:00       7.65       17850  United Kingdom        15.30   \n",
       "6  2010-12-01 08:26:00       4.25       17850  United Kingdom        25.50   \n",
       "7  2010-12-01 08:28:00       1.85       17850  United Kingdom        11.10   \n",
       "8  2010-12-01 08:28:00       1.85       17850  United Kingdom        11.10   \n",
       "9  2010-12-01 08:34:00       1.69       13047  United Kingdom        54.08   \n",
       "\n",
       "   Year  Hour  Month  \n",
       "0  2010     8     12  \n",
       "1  2010     8     12  \n",
       "2  2010     8     12  \n",
       "3  2010     8     12  \n",
       "4  2010     8     12  \n",
       "5  2010     8     12  \n",
       "6  2010     8     12  \n",
       "7  2010     8     12  \n",
       "8  2010     8     12  \n",
       "9  2010     8     12  "
      ]
     },
     "execution_count": 2,
     "metadata": {},
     "output_type": "execute_result"
    }
   ],
   "source": [
    "df = pd.read_csv('DW_EDA_Capstone_Project.csv')\n",
    "df.head(10)"
   ]
  },
  {
   "cell_type": "markdown",
   "metadata": {
    "id": "aHSoO0fYehHR"
   },
   "source": [
    "### Change `Description` column to string data type"
   ]
  },
  {
   "cell_type": "code",
   "execution_count": 3,
   "metadata": {
    "colab": {
     "base_uri": "https://localhost:8080/"
    },
    "id": "C8x2m9CFc8Bu",
    "outputId": "9f36be44-4ba0-45dd-8078-3b4f30fb93e8"
   },
   "outputs": [
    {
     "data": {
      "text/plain": [
       "0          WHITE HANGING HEART T-LIGHT HOLDER\n",
       "1                         WHITE METAL LANTERN\n",
       "2              CREAM CUPID HEARTS COAT HANGER\n",
       "3         KNITTED UNION FLAG HOT WATER BOTTLE\n",
       "4              RED WOOLLY HOTTIE WHITE HEART.\n",
       "                         ...                 \n",
       "379226            PACK OF 20 SPACEBOY NAPKINS\n",
       "379227           CHILDREN'S APRON DOLLY GIRL \n",
       "379228          CHILDRENS CUTLERY DOLLY GIRL \n",
       "379229        CHILDRENS CUTLERY CIRCUS PARADE\n",
       "379230          BAKING SET 9 PIECE RETROSPOT \n",
       "Name: Description, Length: 379231, dtype: object"
      ]
     },
     "execution_count": 3,
     "metadata": {},
     "output_type": "execute_result"
    }
   ],
   "source": [
    "df['Description'].astype(str)"
   ]
  },
  {
   "cell_type": "code",
   "execution_count": 4,
   "metadata": {
    "colab": {
     "base_uri": "https://localhost:8080/"
    },
    "id": "WAZLjkJdd7-I",
    "outputId": "322ec914-c2f6-4a29-aa7a-a91a721ac7b5"
   },
   "outputs": [
    {
     "data": {
      "text/plain": [
       "dtype('O')"
      ]
     },
     "execution_count": 4,
     "metadata": {},
     "output_type": "execute_result"
    }
   ],
   "source": [
    "df['Description'].dtype"
   ]
  },
  {
   "cell_type": "code",
   "execution_count": 5,
   "metadata": {
    "colab": {
     "base_uri": "https://localhost:8080/"
    },
    "id": "FUinJdAD5b8I",
    "outputId": "b8a6de48-dc86-4c22-f4da-5234a62628bb"
   },
   "outputs": [
    {
     "data": {
      "text/plain": [
       "0          WHITE HANGING HEART T-LIGHT HOLDER\n",
       "1                         WHITE METAL LANTERN\n",
       "2              CREAM CUPID HEARTS COAT HANGER\n",
       "3         KNITTED UNION FLAG HOT WATER BOTTLE\n",
       "4              RED WOOLLY HOTTIE WHITE HEART.\n",
       "                         ...                 \n",
       "379226            PACK OF 20 SPACEBOY NAPKINS\n",
       "379227            CHILDREN'S APRON DOLLY GIRL\n",
       "379228           CHILDRENS CUTLERY DOLLY GIRL\n",
       "379229        CHILDRENS CUTLERY CIRCUS PARADE\n",
       "379230           BAKING SET 9 PIECE RETROSPOT\n",
       "Name: Description, Length: 379231, dtype: object"
      ]
     },
     "execution_count": 5,
     "metadata": {},
     "output_type": "execute_result"
    }
   ],
   "source": [
    "df.Description.str.strip()"
   ]
  },
  {
   "cell_type": "markdown",
   "metadata": {
    "id": "KZyecLy6eyiQ"
   },
   "source": [
    "### Group `CustomerID`, `Description`, `Quantity` columns together to create new dataframe for Market Basket Analysis "
   ]
  },
  {
   "cell_type": "code",
   "execution_count": 6,
   "metadata": {
    "id": "eDXTXEah5hjA"
   },
   "outputs": [],
   "source": [
    "df2 = df.groupby(['CustomerID', 'Description']).Quantity.sum().unstack().reset_index().fillna(0).set_index('CustomerID')"
   ]
  },
  {
   "cell_type": "code",
   "execution_count": 7,
   "metadata": {
    "colab": {
     "base_uri": "https://localhost:8080/",
     "height": 599
    },
    "id": "-Or4L1fa5krM",
    "outputId": "68071b6c-6c63-443d-e1a1-9f13f82244f0"
   },
   "outputs": [
    {
     "data": {
      "text/html": [
       "<div>\n",
       "<style scoped>\n",
       "    .dataframe tbody tr th:only-of-type {\n",
       "        vertical-align: middle;\n",
       "    }\n",
       "\n",
       "    .dataframe tbody tr th {\n",
       "        vertical-align: top;\n",
       "    }\n",
       "\n",
       "    .dataframe thead th {\n",
       "        text-align: right;\n",
       "    }\n",
       "</style>\n",
       "<table border=\"1\" class=\"dataframe\">\n",
       "  <thead>\n",
       "    <tr style=\"text-align: right;\">\n",
       "      <th>Description</th>\n",
       "      <th>4 PURPLE FLOCK DINNER CANDLES</th>\n",
       "      <th>50'S CHRISTMAS GIFT BAG LARGE</th>\n",
       "      <th>DOLLY GIRL BEAKER</th>\n",
       "      <th>I LOVE LONDON MINI BACKPACK</th>\n",
       "      <th>NINE DRAWER OFFICE TIDY</th>\n",
       "      <th>OVAL WALL MIRROR DIAMANTE</th>\n",
       "      <th>RED SPOT GIFT BAG LARGE</th>\n",
       "      <th>SET 2 TEA TOWELS I LOVE LONDON</th>\n",
       "      <th>SPACEBOY BABY GIFT SET</th>\n",
       "      <th>TOADSTOOL BEDSIDE LIGHT</th>\n",
       "      <th>...</th>\n",
       "      <th>ZINC STAR T-LIGHT HOLDER</th>\n",
       "      <th>ZINC SWEETHEART SOAP DISH</th>\n",
       "      <th>ZINC SWEETHEART WIRE LETTER RACK</th>\n",
       "      <th>ZINC T-LIGHT HOLDER STAR LARGE</th>\n",
       "      <th>ZINC T-LIGHT HOLDER STARS LARGE</th>\n",
       "      <th>ZINC T-LIGHT HOLDER STARS SMALL</th>\n",
       "      <th>ZINC TOP  2 DOOR WOODEN SHELF</th>\n",
       "      <th>ZINC WILLIE WINKIE  CANDLE STICK</th>\n",
       "      <th>ZINC WIRE KITCHEN ORGANISER</th>\n",
       "      <th>ZINC WIRE SWEETHEART LETTER TRAY</th>\n",
       "    </tr>\n",
       "    <tr>\n",
       "      <th>CustomerID</th>\n",
       "      <th></th>\n",
       "      <th></th>\n",
       "      <th></th>\n",
       "      <th></th>\n",
       "      <th></th>\n",
       "      <th></th>\n",
       "      <th></th>\n",
       "      <th></th>\n",
       "      <th></th>\n",
       "      <th></th>\n",
       "      <th></th>\n",
       "      <th></th>\n",
       "      <th></th>\n",
       "      <th></th>\n",
       "      <th></th>\n",
       "      <th></th>\n",
       "      <th></th>\n",
       "      <th></th>\n",
       "      <th></th>\n",
       "      <th></th>\n",
       "      <th></th>\n",
       "    </tr>\n",
       "  </thead>\n",
       "  <tbody>\n",
       "    <tr>\n",
       "      <th>0</th>\n",
       "      <td>4.0</td>\n",
       "      <td>18.0</td>\n",
       "      <td>28.0</td>\n",
       "      <td>19.0</td>\n",
       "      <td>2.0</td>\n",
       "      <td>33.0</td>\n",
       "      <td>23.0</td>\n",
       "      <td>108.0</td>\n",
       "      <td>14.0</td>\n",
       "      <td>0.0</td>\n",
       "      <td>...</td>\n",
       "      <td>0.0</td>\n",
       "      <td>0.0</td>\n",
       "      <td>4.0</td>\n",
       "      <td>20.0</td>\n",
       "      <td>0.0</td>\n",
       "      <td>187.0</td>\n",
       "      <td>0.0</td>\n",
       "      <td>302.0</td>\n",
       "      <td>2.0</td>\n",
       "      <td>0.0</td>\n",
       "    </tr>\n",
       "    <tr>\n",
       "      <th>12346</th>\n",
       "      <td>0.0</td>\n",
       "      <td>0.0</td>\n",
       "      <td>0.0</td>\n",
       "      <td>0.0</td>\n",
       "      <td>0.0</td>\n",
       "      <td>0.0</td>\n",
       "      <td>0.0</td>\n",
       "      <td>0.0</td>\n",
       "      <td>0.0</td>\n",
       "      <td>0.0</td>\n",
       "      <td>...</td>\n",
       "      <td>0.0</td>\n",
       "      <td>0.0</td>\n",
       "      <td>0.0</td>\n",
       "      <td>0.0</td>\n",
       "      <td>0.0</td>\n",
       "      <td>0.0</td>\n",
       "      <td>0.0</td>\n",
       "      <td>0.0</td>\n",
       "      <td>0.0</td>\n",
       "      <td>0.0</td>\n",
       "    </tr>\n",
       "    <tr>\n",
       "      <th>12347</th>\n",
       "      <td>0.0</td>\n",
       "      <td>0.0</td>\n",
       "      <td>0.0</td>\n",
       "      <td>0.0</td>\n",
       "      <td>0.0</td>\n",
       "      <td>0.0</td>\n",
       "      <td>0.0</td>\n",
       "      <td>0.0</td>\n",
       "      <td>0.0</td>\n",
       "      <td>0.0</td>\n",
       "      <td>...</td>\n",
       "      <td>0.0</td>\n",
       "      <td>0.0</td>\n",
       "      <td>0.0</td>\n",
       "      <td>0.0</td>\n",
       "      <td>0.0</td>\n",
       "      <td>0.0</td>\n",
       "      <td>0.0</td>\n",
       "      <td>0.0</td>\n",
       "      <td>0.0</td>\n",
       "      <td>0.0</td>\n",
       "    </tr>\n",
       "    <tr>\n",
       "      <th>12348</th>\n",
       "      <td>0.0</td>\n",
       "      <td>0.0</td>\n",
       "      <td>0.0</td>\n",
       "      <td>0.0</td>\n",
       "      <td>0.0</td>\n",
       "      <td>0.0</td>\n",
       "      <td>0.0</td>\n",
       "      <td>0.0</td>\n",
       "      <td>0.0</td>\n",
       "      <td>0.0</td>\n",
       "      <td>...</td>\n",
       "      <td>0.0</td>\n",
       "      <td>0.0</td>\n",
       "      <td>0.0</td>\n",
       "      <td>0.0</td>\n",
       "      <td>0.0</td>\n",
       "      <td>0.0</td>\n",
       "      <td>0.0</td>\n",
       "      <td>0.0</td>\n",
       "      <td>0.0</td>\n",
       "      <td>0.0</td>\n",
       "    </tr>\n",
       "    <tr>\n",
       "      <th>12349</th>\n",
       "      <td>0.0</td>\n",
       "      <td>0.0</td>\n",
       "      <td>0.0</td>\n",
       "      <td>0.0</td>\n",
       "      <td>0.0</td>\n",
       "      <td>0.0</td>\n",
       "      <td>0.0</td>\n",
       "      <td>0.0</td>\n",
       "      <td>0.0</td>\n",
       "      <td>0.0</td>\n",
       "      <td>...</td>\n",
       "      <td>0.0</td>\n",
       "      <td>0.0</td>\n",
       "      <td>0.0</td>\n",
       "      <td>0.0</td>\n",
       "      <td>0.0</td>\n",
       "      <td>0.0</td>\n",
       "      <td>0.0</td>\n",
       "      <td>0.0</td>\n",
       "      <td>0.0</td>\n",
       "      <td>0.0</td>\n",
       "    </tr>\n",
       "    <tr>\n",
       "      <th>...</th>\n",
       "      <td>...</td>\n",
       "      <td>...</td>\n",
       "      <td>...</td>\n",
       "      <td>...</td>\n",
       "      <td>...</td>\n",
       "      <td>...</td>\n",
       "      <td>...</td>\n",
       "      <td>...</td>\n",
       "      <td>...</td>\n",
       "      <td>...</td>\n",
       "      <td>...</td>\n",
       "      <td>...</td>\n",
       "      <td>...</td>\n",
       "      <td>...</td>\n",
       "      <td>...</td>\n",
       "      <td>...</td>\n",
       "      <td>...</td>\n",
       "      <td>...</td>\n",
       "      <td>...</td>\n",
       "      <td>...</td>\n",
       "      <td>...</td>\n",
       "    </tr>\n",
       "    <tr>\n",
       "      <th>18280</th>\n",
       "      <td>0.0</td>\n",
       "      <td>0.0</td>\n",
       "      <td>0.0</td>\n",
       "      <td>0.0</td>\n",
       "      <td>0.0</td>\n",
       "      <td>0.0</td>\n",
       "      <td>0.0</td>\n",
       "      <td>0.0</td>\n",
       "      <td>0.0</td>\n",
       "      <td>0.0</td>\n",
       "      <td>...</td>\n",
       "      <td>0.0</td>\n",
       "      <td>0.0</td>\n",
       "      <td>0.0</td>\n",
       "      <td>0.0</td>\n",
       "      <td>0.0</td>\n",
       "      <td>0.0</td>\n",
       "      <td>0.0</td>\n",
       "      <td>0.0</td>\n",
       "      <td>0.0</td>\n",
       "      <td>0.0</td>\n",
       "    </tr>\n",
       "    <tr>\n",
       "      <th>18281</th>\n",
       "      <td>0.0</td>\n",
       "      <td>0.0</td>\n",
       "      <td>0.0</td>\n",
       "      <td>0.0</td>\n",
       "      <td>0.0</td>\n",
       "      <td>0.0</td>\n",
       "      <td>0.0</td>\n",
       "      <td>0.0</td>\n",
       "      <td>0.0</td>\n",
       "      <td>0.0</td>\n",
       "      <td>...</td>\n",
       "      <td>0.0</td>\n",
       "      <td>0.0</td>\n",
       "      <td>0.0</td>\n",
       "      <td>0.0</td>\n",
       "      <td>0.0</td>\n",
       "      <td>0.0</td>\n",
       "      <td>0.0</td>\n",
       "      <td>0.0</td>\n",
       "      <td>0.0</td>\n",
       "      <td>0.0</td>\n",
       "    </tr>\n",
       "    <tr>\n",
       "      <th>18282</th>\n",
       "      <td>0.0</td>\n",
       "      <td>0.0</td>\n",
       "      <td>0.0</td>\n",
       "      <td>0.0</td>\n",
       "      <td>0.0</td>\n",
       "      <td>0.0</td>\n",
       "      <td>0.0</td>\n",
       "      <td>0.0</td>\n",
       "      <td>0.0</td>\n",
       "      <td>0.0</td>\n",
       "      <td>...</td>\n",
       "      <td>0.0</td>\n",
       "      <td>0.0</td>\n",
       "      <td>0.0</td>\n",
       "      <td>0.0</td>\n",
       "      <td>0.0</td>\n",
       "      <td>0.0</td>\n",
       "      <td>0.0</td>\n",
       "      <td>0.0</td>\n",
       "      <td>0.0</td>\n",
       "      <td>0.0</td>\n",
       "    </tr>\n",
       "    <tr>\n",
       "      <th>18283</th>\n",
       "      <td>0.0</td>\n",
       "      <td>0.0</td>\n",
       "      <td>0.0</td>\n",
       "      <td>0.0</td>\n",
       "      <td>0.0</td>\n",
       "      <td>0.0</td>\n",
       "      <td>0.0</td>\n",
       "      <td>0.0</td>\n",
       "      <td>0.0</td>\n",
       "      <td>0.0</td>\n",
       "      <td>...</td>\n",
       "      <td>0.0</td>\n",
       "      <td>0.0</td>\n",
       "      <td>0.0</td>\n",
       "      <td>0.0</td>\n",
       "      <td>0.0</td>\n",
       "      <td>0.0</td>\n",
       "      <td>0.0</td>\n",
       "      <td>0.0</td>\n",
       "      <td>0.0</td>\n",
       "      <td>0.0</td>\n",
       "    </tr>\n",
       "    <tr>\n",
       "      <th>18287</th>\n",
       "      <td>0.0</td>\n",
       "      <td>0.0</td>\n",
       "      <td>0.0</td>\n",
       "      <td>0.0</td>\n",
       "      <td>0.0</td>\n",
       "      <td>0.0</td>\n",
       "      <td>0.0</td>\n",
       "      <td>0.0</td>\n",
       "      <td>0.0</td>\n",
       "      <td>0.0</td>\n",
       "      <td>...</td>\n",
       "      <td>0.0</td>\n",
       "      <td>0.0</td>\n",
       "      <td>0.0</td>\n",
       "      <td>0.0</td>\n",
       "      <td>0.0</td>\n",
       "      <td>0.0</td>\n",
       "      <td>0.0</td>\n",
       "      <td>0.0</td>\n",
       "      <td>0.0</td>\n",
       "      <td>0.0</td>\n",
       "    </tr>\n",
       "  </tbody>\n",
       "</table>\n",
       "<p>4328 rows × 3857 columns</p>\n",
       "</div>"
      ],
      "text/plain": [
       "Description   4 PURPLE FLOCK DINNER CANDLES   50'S CHRISTMAS GIFT BAG LARGE  \\\n",
       "CustomerID                                                                    \n",
       "0                                       4.0                            18.0   \n",
       "12346                                   0.0                             0.0   \n",
       "12347                                   0.0                             0.0   \n",
       "12348                                   0.0                             0.0   \n",
       "12349                                   0.0                             0.0   \n",
       "...                                     ...                             ...   \n",
       "18280                                   0.0                             0.0   \n",
       "18281                                   0.0                             0.0   \n",
       "18282                                   0.0                             0.0   \n",
       "18283                                   0.0                             0.0   \n",
       "18287                                   0.0                             0.0   \n",
       "\n",
       "Description   DOLLY GIRL BEAKER   I LOVE LONDON MINI BACKPACK  \\\n",
       "CustomerID                                                      \n",
       "0                          28.0                          19.0   \n",
       "12346                       0.0                           0.0   \n",
       "12347                       0.0                           0.0   \n",
       "12348                       0.0                           0.0   \n",
       "12349                       0.0                           0.0   \n",
       "...                         ...                           ...   \n",
       "18280                       0.0                           0.0   \n",
       "18281                       0.0                           0.0   \n",
       "18282                       0.0                           0.0   \n",
       "18283                       0.0                           0.0   \n",
       "18287                       0.0                           0.0   \n",
       "\n",
       "Description   NINE DRAWER OFFICE TIDY   OVAL WALL MIRROR DIAMANTE   \\\n",
       "CustomerID                                                           \n",
       "0                                 2.0                         33.0   \n",
       "12346                             0.0                          0.0   \n",
       "12347                             0.0                          0.0   \n",
       "12348                             0.0                          0.0   \n",
       "12349                             0.0                          0.0   \n",
       "...                               ...                          ...   \n",
       "18280                             0.0                          0.0   \n",
       "18281                             0.0                          0.0   \n",
       "18282                             0.0                          0.0   \n",
       "18283                             0.0                          0.0   \n",
       "18287                             0.0                          0.0   \n",
       "\n",
       "Description   RED SPOT GIFT BAG LARGE   SET 2 TEA TOWELS I LOVE LONDON   \\\n",
       "CustomerID                                                                \n",
       "0                                23.0                             108.0   \n",
       "12346                             0.0                               0.0   \n",
       "12347                             0.0                               0.0   \n",
       "12348                             0.0                               0.0   \n",
       "12349                             0.0                               0.0   \n",
       "...                               ...                               ...   \n",
       "18280                             0.0                               0.0   \n",
       "18281                             0.0                               0.0   \n",
       "18282                             0.0                               0.0   \n",
       "18283                             0.0                               0.0   \n",
       "18287                             0.0                               0.0   \n",
       "\n",
       "Description   SPACEBOY BABY GIFT SET   TOADSTOOL BEDSIDE LIGHT   ...  \\\n",
       "CustomerID                                                       ...   \n",
       "0                               14.0                        0.0  ...   \n",
       "12346                            0.0                        0.0  ...   \n",
       "12347                            0.0                        0.0  ...   \n",
       "12348                            0.0                        0.0  ...   \n",
       "12349                            0.0                        0.0  ...   \n",
       "...                              ...                        ...  ...   \n",
       "18280                            0.0                        0.0  ...   \n",
       "18281                            0.0                        0.0  ...   \n",
       "18282                            0.0                        0.0  ...   \n",
       "18283                            0.0                        0.0  ...   \n",
       "18287                            0.0                        0.0  ...   \n",
       "\n",
       "Description  ZINC STAR T-LIGHT HOLDER   ZINC SWEETHEART SOAP DISH  \\\n",
       "CustomerID                                                          \n",
       "0                                  0.0                        0.0   \n",
       "12346                              0.0                        0.0   \n",
       "12347                              0.0                        0.0   \n",
       "12348                              0.0                        0.0   \n",
       "12349                              0.0                        0.0   \n",
       "...                                ...                        ...   \n",
       "18280                              0.0                        0.0   \n",
       "18281                              0.0                        0.0   \n",
       "18282                              0.0                        0.0   \n",
       "18283                              0.0                        0.0   \n",
       "18287                              0.0                        0.0   \n",
       "\n",
       "Description  ZINC SWEETHEART WIRE LETTER RACK  ZINC T-LIGHT HOLDER STAR LARGE  \\\n",
       "CustomerID                                                                      \n",
       "0                                         4.0                            20.0   \n",
       "12346                                     0.0                             0.0   \n",
       "12347                                     0.0                             0.0   \n",
       "12348                                     0.0                             0.0   \n",
       "12349                                     0.0                             0.0   \n",
       "...                                       ...                             ...   \n",
       "18280                                     0.0                             0.0   \n",
       "18281                                     0.0                             0.0   \n",
       "18282                                     0.0                             0.0   \n",
       "18283                                     0.0                             0.0   \n",
       "18287                                     0.0                             0.0   \n",
       "\n",
       "Description  ZINC T-LIGHT HOLDER STARS LARGE  ZINC T-LIGHT HOLDER STARS SMALL  \\\n",
       "CustomerID                                                                      \n",
       "0                                        0.0                            187.0   \n",
       "12346                                    0.0                              0.0   \n",
       "12347                                    0.0                              0.0   \n",
       "12348                                    0.0                              0.0   \n",
       "12349                                    0.0                              0.0   \n",
       "...                                      ...                              ...   \n",
       "18280                                    0.0                              0.0   \n",
       "18281                                    0.0                              0.0   \n",
       "18282                                    0.0                              0.0   \n",
       "18283                                    0.0                              0.0   \n",
       "18287                                    0.0                              0.0   \n",
       "\n",
       "Description  ZINC TOP  2 DOOR WOODEN SHELF   ZINC WILLIE WINKIE  CANDLE STICK  \\\n",
       "CustomerID                                                                      \n",
       "0                                       0.0                             302.0   \n",
       "12346                                   0.0                               0.0   \n",
       "12347                                   0.0                               0.0   \n",
       "12348                                   0.0                               0.0   \n",
       "12349                                   0.0                               0.0   \n",
       "...                                     ...                               ...   \n",
       "18280                                   0.0                               0.0   \n",
       "18281                                   0.0                               0.0   \n",
       "18282                                   0.0                               0.0   \n",
       "18283                                   0.0                               0.0   \n",
       "18287                                   0.0                               0.0   \n",
       "\n",
       "Description  ZINC WIRE KITCHEN ORGANISER  ZINC WIRE SWEETHEART LETTER TRAY  \n",
       "CustomerID                                                                  \n",
       "0                                    2.0                               0.0  \n",
       "12346                                0.0                               0.0  \n",
       "12347                                0.0                               0.0  \n",
       "12348                                0.0                               0.0  \n",
       "12349                                0.0                               0.0  \n",
       "...                                  ...                               ...  \n",
       "18280                                0.0                               0.0  \n",
       "18281                                0.0                               0.0  \n",
       "18282                                0.0                               0.0  \n",
       "18283                                0.0                               0.0  \n",
       "18287                                0.0                               0.0  \n",
       "\n",
       "[4328 rows x 3857 columns]"
      ]
     },
     "execution_count": 7,
     "metadata": {},
     "output_type": "execute_result"
    }
   ],
   "source": [
    "df2"
   ]
  },
  {
   "cell_type": "code",
   "execution_count": 8,
   "metadata": {
    "colab": {
     "base_uri": "https://localhost:8080/"
    },
    "id": "drK0qS5t5obR",
    "outputId": "642e7fcc-f7e4-457d-b9e3-68b26ad2e6cf"
   },
   "outputs": [
    {
     "data": {
      "text/plain": [
       "Index([' 4 PURPLE FLOCK DINNER CANDLES', ' 50'S CHRISTMAS GIFT BAG LARGE',\n",
       "       ' DOLLY GIRL BEAKER', ' I LOVE LONDON MINI BACKPACK',\n",
       "       ' NINE DRAWER OFFICE TIDY', ' OVAL WALL MIRROR DIAMANTE ',\n",
       "       ' RED SPOT GIFT BAG LARGE', ' SET 2 TEA TOWELS I LOVE LONDON ',\n",
       "       ' SPACEBOY BABY GIFT SET', ' TOADSTOOL BEDSIDE LIGHT ',\n",
       "       ...\n",
       "       'ZINC STAR T-LIGHT HOLDER ', 'ZINC SWEETHEART SOAP DISH',\n",
       "       'ZINC SWEETHEART WIRE LETTER RACK', 'ZINC T-LIGHT HOLDER STAR LARGE',\n",
       "       'ZINC T-LIGHT HOLDER STARS LARGE', 'ZINC T-LIGHT HOLDER STARS SMALL',\n",
       "       'ZINC TOP  2 DOOR WOODEN SHELF ', 'ZINC WILLIE WINKIE  CANDLE STICK',\n",
       "       'ZINC WIRE KITCHEN ORGANISER', 'ZINC WIRE SWEETHEART LETTER TRAY'],\n",
       "      dtype='object', name='Description', length=3857)"
      ]
     },
     "execution_count": 8,
     "metadata": {},
     "output_type": "execute_result"
    }
   ],
   "source": [
    "df2.columns"
   ]
  },
  {
   "cell_type": "markdown",
   "metadata": {
    "id": "idhwdPo7gLJO"
   },
   "source": [
    "### One-hot code the entire new dataframe for analysis"
   ]
  },
  {
   "cell_type": "code",
   "execution_count": 9,
   "metadata": {
    "id": "DajZzcF95rZO"
   },
   "outputs": [],
   "source": [
    "def one_hot_encode(x):\n",
    "    if x <= 0:\n",
    "        return 0\n",
    "    return 1"
   ]
  },
  {
   "cell_type": "code",
   "execution_count": 10,
   "metadata": {
    "id": "rOnKKNHK50Iv"
   },
   "outputs": [],
   "source": [
    "df_encoded = df2.applymap(one_hot_encode)"
   ]
  },
  {
   "cell_type": "code",
   "execution_count": 11,
   "metadata": {
    "id": "C3zOkdPs52qw"
   },
   "outputs": [],
   "source": [
    "df_two_or_more = df_encoded[(df_encoded > 0).sum(axis=1) >= 2]"
   ]
  },
  {
   "cell_type": "markdown",
   "metadata": {
    "id": "18x3XEQpgXNE"
   },
   "source": [
    "#### Filter new DataFrame for item purchases with quantity greater than 1"
   ]
  },
  {
   "cell_type": "code",
   "execution_count": 12,
   "metadata": {
    "colab": {
     "base_uri": "https://localhost:8080/",
     "height": 599
    },
    "id": "slwmNAuA55Oa",
    "outputId": "37d12b07-dd13-467b-c7d4-2575c79f2179"
   },
   "outputs": [
    {
     "data": {
      "text/html": [
       "<div>\n",
       "<style scoped>\n",
       "    .dataframe tbody tr th:only-of-type {\n",
       "        vertical-align: middle;\n",
       "    }\n",
       "\n",
       "    .dataframe tbody tr th {\n",
       "        vertical-align: top;\n",
       "    }\n",
       "\n",
       "    .dataframe thead th {\n",
       "        text-align: right;\n",
       "    }\n",
       "</style>\n",
       "<table border=\"1\" class=\"dataframe\">\n",
       "  <thead>\n",
       "    <tr style=\"text-align: right;\">\n",
       "      <th>Description</th>\n",
       "      <th>4 PURPLE FLOCK DINNER CANDLES</th>\n",
       "      <th>50'S CHRISTMAS GIFT BAG LARGE</th>\n",
       "      <th>DOLLY GIRL BEAKER</th>\n",
       "      <th>I LOVE LONDON MINI BACKPACK</th>\n",
       "      <th>NINE DRAWER OFFICE TIDY</th>\n",
       "      <th>OVAL WALL MIRROR DIAMANTE</th>\n",
       "      <th>RED SPOT GIFT BAG LARGE</th>\n",
       "      <th>SET 2 TEA TOWELS I LOVE LONDON</th>\n",
       "      <th>SPACEBOY BABY GIFT SET</th>\n",
       "      <th>TOADSTOOL BEDSIDE LIGHT</th>\n",
       "      <th>...</th>\n",
       "      <th>ZINC STAR T-LIGHT HOLDER</th>\n",
       "      <th>ZINC SWEETHEART SOAP DISH</th>\n",
       "      <th>ZINC SWEETHEART WIRE LETTER RACK</th>\n",
       "      <th>ZINC T-LIGHT HOLDER STAR LARGE</th>\n",
       "      <th>ZINC T-LIGHT HOLDER STARS LARGE</th>\n",
       "      <th>ZINC T-LIGHT HOLDER STARS SMALL</th>\n",
       "      <th>ZINC TOP  2 DOOR WOODEN SHELF</th>\n",
       "      <th>ZINC WILLIE WINKIE  CANDLE STICK</th>\n",
       "      <th>ZINC WIRE KITCHEN ORGANISER</th>\n",
       "      <th>ZINC WIRE SWEETHEART LETTER TRAY</th>\n",
       "    </tr>\n",
       "    <tr>\n",
       "      <th>CustomerID</th>\n",
       "      <th></th>\n",
       "      <th></th>\n",
       "      <th></th>\n",
       "      <th></th>\n",
       "      <th></th>\n",
       "      <th></th>\n",
       "      <th></th>\n",
       "      <th></th>\n",
       "      <th></th>\n",
       "      <th></th>\n",
       "      <th></th>\n",
       "      <th></th>\n",
       "      <th></th>\n",
       "      <th></th>\n",
       "      <th></th>\n",
       "      <th></th>\n",
       "      <th></th>\n",
       "      <th></th>\n",
       "      <th></th>\n",
       "      <th></th>\n",
       "      <th></th>\n",
       "    </tr>\n",
       "  </thead>\n",
       "  <tbody>\n",
       "    <tr>\n",
       "      <th>0</th>\n",
       "      <td>1</td>\n",
       "      <td>1</td>\n",
       "      <td>1</td>\n",
       "      <td>1</td>\n",
       "      <td>1</td>\n",
       "      <td>1</td>\n",
       "      <td>1</td>\n",
       "      <td>1</td>\n",
       "      <td>1</td>\n",
       "      <td>0</td>\n",
       "      <td>...</td>\n",
       "      <td>0</td>\n",
       "      <td>0</td>\n",
       "      <td>1</td>\n",
       "      <td>1</td>\n",
       "      <td>0</td>\n",
       "      <td>1</td>\n",
       "      <td>0</td>\n",
       "      <td>1</td>\n",
       "      <td>1</td>\n",
       "      <td>0</td>\n",
       "    </tr>\n",
       "    <tr>\n",
       "      <th>12347</th>\n",
       "      <td>0</td>\n",
       "      <td>0</td>\n",
       "      <td>0</td>\n",
       "      <td>0</td>\n",
       "      <td>0</td>\n",
       "      <td>0</td>\n",
       "      <td>0</td>\n",
       "      <td>0</td>\n",
       "      <td>0</td>\n",
       "      <td>0</td>\n",
       "      <td>...</td>\n",
       "      <td>0</td>\n",
       "      <td>0</td>\n",
       "      <td>0</td>\n",
       "      <td>0</td>\n",
       "      <td>0</td>\n",
       "      <td>0</td>\n",
       "      <td>0</td>\n",
       "      <td>0</td>\n",
       "      <td>0</td>\n",
       "      <td>0</td>\n",
       "    </tr>\n",
       "    <tr>\n",
       "      <th>12348</th>\n",
       "      <td>0</td>\n",
       "      <td>0</td>\n",
       "      <td>0</td>\n",
       "      <td>0</td>\n",
       "      <td>0</td>\n",
       "      <td>0</td>\n",
       "      <td>0</td>\n",
       "      <td>0</td>\n",
       "      <td>0</td>\n",
       "      <td>0</td>\n",
       "      <td>...</td>\n",
       "      <td>0</td>\n",
       "      <td>0</td>\n",
       "      <td>0</td>\n",
       "      <td>0</td>\n",
       "      <td>0</td>\n",
       "      <td>0</td>\n",
       "      <td>0</td>\n",
       "      <td>0</td>\n",
       "      <td>0</td>\n",
       "      <td>0</td>\n",
       "    </tr>\n",
       "    <tr>\n",
       "      <th>12349</th>\n",
       "      <td>0</td>\n",
       "      <td>0</td>\n",
       "      <td>0</td>\n",
       "      <td>0</td>\n",
       "      <td>0</td>\n",
       "      <td>0</td>\n",
       "      <td>0</td>\n",
       "      <td>0</td>\n",
       "      <td>0</td>\n",
       "      <td>0</td>\n",
       "      <td>...</td>\n",
       "      <td>0</td>\n",
       "      <td>0</td>\n",
       "      <td>0</td>\n",
       "      <td>0</td>\n",
       "      <td>0</td>\n",
       "      <td>0</td>\n",
       "      <td>0</td>\n",
       "      <td>0</td>\n",
       "      <td>0</td>\n",
       "      <td>0</td>\n",
       "    </tr>\n",
       "    <tr>\n",
       "      <th>12350</th>\n",
       "      <td>0</td>\n",
       "      <td>0</td>\n",
       "      <td>0</td>\n",
       "      <td>0</td>\n",
       "      <td>0</td>\n",
       "      <td>0</td>\n",
       "      <td>0</td>\n",
       "      <td>0</td>\n",
       "      <td>0</td>\n",
       "      <td>0</td>\n",
       "      <td>...</td>\n",
       "      <td>0</td>\n",
       "      <td>0</td>\n",
       "      <td>0</td>\n",
       "      <td>0</td>\n",
       "      <td>0</td>\n",
       "      <td>0</td>\n",
       "      <td>0</td>\n",
       "      <td>0</td>\n",
       "      <td>0</td>\n",
       "      <td>0</td>\n",
       "    </tr>\n",
       "    <tr>\n",
       "      <th>...</th>\n",
       "      <td>...</td>\n",
       "      <td>...</td>\n",
       "      <td>...</td>\n",
       "      <td>...</td>\n",
       "      <td>...</td>\n",
       "      <td>...</td>\n",
       "      <td>...</td>\n",
       "      <td>...</td>\n",
       "      <td>...</td>\n",
       "      <td>...</td>\n",
       "      <td>...</td>\n",
       "      <td>...</td>\n",
       "      <td>...</td>\n",
       "      <td>...</td>\n",
       "      <td>...</td>\n",
       "      <td>...</td>\n",
       "      <td>...</td>\n",
       "      <td>...</td>\n",
       "      <td>...</td>\n",
       "      <td>...</td>\n",
       "      <td>...</td>\n",
       "    </tr>\n",
       "    <tr>\n",
       "      <th>18280</th>\n",
       "      <td>0</td>\n",
       "      <td>0</td>\n",
       "      <td>0</td>\n",
       "      <td>0</td>\n",
       "      <td>0</td>\n",
       "      <td>0</td>\n",
       "      <td>0</td>\n",
       "      <td>0</td>\n",
       "      <td>0</td>\n",
       "      <td>0</td>\n",
       "      <td>...</td>\n",
       "      <td>0</td>\n",
       "      <td>0</td>\n",
       "      <td>0</td>\n",
       "      <td>0</td>\n",
       "      <td>0</td>\n",
       "      <td>0</td>\n",
       "      <td>0</td>\n",
       "      <td>0</td>\n",
       "      <td>0</td>\n",
       "      <td>0</td>\n",
       "    </tr>\n",
       "    <tr>\n",
       "      <th>18281</th>\n",
       "      <td>0</td>\n",
       "      <td>0</td>\n",
       "      <td>0</td>\n",
       "      <td>0</td>\n",
       "      <td>0</td>\n",
       "      <td>0</td>\n",
       "      <td>0</td>\n",
       "      <td>0</td>\n",
       "      <td>0</td>\n",
       "      <td>0</td>\n",
       "      <td>...</td>\n",
       "      <td>0</td>\n",
       "      <td>0</td>\n",
       "      <td>0</td>\n",
       "      <td>0</td>\n",
       "      <td>0</td>\n",
       "      <td>0</td>\n",
       "      <td>0</td>\n",
       "      <td>0</td>\n",
       "      <td>0</td>\n",
       "      <td>0</td>\n",
       "    </tr>\n",
       "    <tr>\n",
       "      <th>18282</th>\n",
       "      <td>0</td>\n",
       "      <td>0</td>\n",
       "      <td>0</td>\n",
       "      <td>0</td>\n",
       "      <td>0</td>\n",
       "      <td>0</td>\n",
       "      <td>0</td>\n",
       "      <td>0</td>\n",
       "      <td>0</td>\n",
       "      <td>0</td>\n",
       "      <td>...</td>\n",
       "      <td>0</td>\n",
       "      <td>0</td>\n",
       "      <td>0</td>\n",
       "      <td>0</td>\n",
       "      <td>0</td>\n",
       "      <td>0</td>\n",
       "      <td>0</td>\n",
       "      <td>0</td>\n",
       "      <td>0</td>\n",
       "      <td>0</td>\n",
       "    </tr>\n",
       "    <tr>\n",
       "      <th>18283</th>\n",
       "      <td>0</td>\n",
       "      <td>0</td>\n",
       "      <td>0</td>\n",
       "      <td>0</td>\n",
       "      <td>0</td>\n",
       "      <td>0</td>\n",
       "      <td>0</td>\n",
       "      <td>0</td>\n",
       "      <td>0</td>\n",
       "      <td>0</td>\n",
       "      <td>...</td>\n",
       "      <td>0</td>\n",
       "      <td>0</td>\n",
       "      <td>0</td>\n",
       "      <td>0</td>\n",
       "      <td>0</td>\n",
       "      <td>0</td>\n",
       "      <td>0</td>\n",
       "      <td>0</td>\n",
       "      <td>0</td>\n",
       "      <td>0</td>\n",
       "    </tr>\n",
       "    <tr>\n",
       "      <th>18287</th>\n",
       "      <td>0</td>\n",
       "      <td>0</td>\n",
       "      <td>0</td>\n",
       "      <td>0</td>\n",
       "      <td>0</td>\n",
       "      <td>0</td>\n",
       "      <td>0</td>\n",
       "      <td>0</td>\n",
       "      <td>0</td>\n",
       "      <td>0</td>\n",
       "      <td>...</td>\n",
       "      <td>0</td>\n",
       "      <td>0</td>\n",
       "      <td>0</td>\n",
       "      <td>0</td>\n",
       "      <td>0</td>\n",
       "      <td>0</td>\n",
       "      <td>0</td>\n",
       "      <td>0</td>\n",
       "      <td>0</td>\n",
       "      <td>0</td>\n",
       "    </tr>\n",
       "  </tbody>\n",
       "</table>\n",
       "<p>4226 rows × 3857 columns</p>\n",
       "</div>"
      ],
      "text/plain": [
       "Description   4 PURPLE FLOCK DINNER CANDLES   50'S CHRISTMAS GIFT BAG LARGE  \\\n",
       "CustomerID                                                                    \n",
       "0                                         1                               1   \n",
       "12347                                     0                               0   \n",
       "12348                                     0                               0   \n",
       "12349                                     0                               0   \n",
       "12350                                     0                               0   \n",
       "...                                     ...                             ...   \n",
       "18280                                     0                               0   \n",
       "18281                                     0                               0   \n",
       "18282                                     0                               0   \n",
       "18283                                     0                               0   \n",
       "18287                                     0                               0   \n",
       "\n",
       "Description   DOLLY GIRL BEAKER   I LOVE LONDON MINI BACKPACK  \\\n",
       "CustomerID                                                      \n",
       "0                             1                             1   \n",
       "12347                         0                             0   \n",
       "12348                         0                             0   \n",
       "12349                         0                             0   \n",
       "12350                         0                             0   \n",
       "...                         ...                           ...   \n",
       "18280                         0                             0   \n",
       "18281                         0                             0   \n",
       "18282                         0                             0   \n",
       "18283                         0                             0   \n",
       "18287                         0                             0   \n",
       "\n",
       "Description   NINE DRAWER OFFICE TIDY   OVAL WALL MIRROR DIAMANTE   \\\n",
       "CustomerID                                                           \n",
       "0                                   1                            1   \n",
       "12347                               0                            0   \n",
       "12348                               0                            0   \n",
       "12349                               0                            0   \n",
       "12350                               0                            0   \n",
       "...                               ...                          ...   \n",
       "18280                               0                            0   \n",
       "18281                               0                            0   \n",
       "18282                               0                            0   \n",
       "18283                               0                            0   \n",
       "18287                               0                            0   \n",
       "\n",
       "Description   RED SPOT GIFT BAG LARGE   SET 2 TEA TOWELS I LOVE LONDON   \\\n",
       "CustomerID                                                                \n",
       "0                                   1                                 1   \n",
       "12347                               0                                 0   \n",
       "12348                               0                                 0   \n",
       "12349                               0                                 0   \n",
       "12350                               0                                 0   \n",
       "...                               ...                               ...   \n",
       "18280                               0                                 0   \n",
       "18281                               0                                 0   \n",
       "18282                               0                                 0   \n",
       "18283                               0                                 0   \n",
       "18287                               0                                 0   \n",
       "\n",
       "Description   SPACEBOY BABY GIFT SET   TOADSTOOL BEDSIDE LIGHT   ...  \\\n",
       "CustomerID                                                       ...   \n",
       "0                                  1                          0  ...   \n",
       "12347                              0                          0  ...   \n",
       "12348                              0                          0  ...   \n",
       "12349                              0                          0  ...   \n",
       "12350                              0                          0  ...   \n",
       "...                              ...                        ...  ...   \n",
       "18280                              0                          0  ...   \n",
       "18281                              0                          0  ...   \n",
       "18282                              0                          0  ...   \n",
       "18283                              0                          0  ...   \n",
       "18287                              0                          0  ...   \n",
       "\n",
       "Description  ZINC STAR T-LIGHT HOLDER   ZINC SWEETHEART SOAP DISH  \\\n",
       "CustomerID                                                          \n",
       "0                                    0                          0   \n",
       "12347                                0                          0   \n",
       "12348                                0                          0   \n",
       "12349                                0                          0   \n",
       "12350                                0                          0   \n",
       "...                                ...                        ...   \n",
       "18280                                0                          0   \n",
       "18281                                0                          0   \n",
       "18282                                0                          0   \n",
       "18283                                0                          0   \n",
       "18287                                0                          0   \n",
       "\n",
       "Description  ZINC SWEETHEART WIRE LETTER RACK  ZINC T-LIGHT HOLDER STAR LARGE  \\\n",
       "CustomerID                                                                      \n",
       "0                                           1                               1   \n",
       "12347                                       0                               0   \n",
       "12348                                       0                               0   \n",
       "12349                                       0                               0   \n",
       "12350                                       0                               0   \n",
       "...                                       ...                             ...   \n",
       "18280                                       0                               0   \n",
       "18281                                       0                               0   \n",
       "18282                                       0                               0   \n",
       "18283                                       0                               0   \n",
       "18287                                       0                               0   \n",
       "\n",
       "Description  ZINC T-LIGHT HOLDER STARS LARGE  ZINC T-LIGHT HOLDER STARS SMALL  \\\n",
       "CustomerID                                                                      \n",
       "0                                          0                                1   \n",
       "12347                                      0                                0   \n",
       "12348                                      0                                0   \n",
       "12349                                      0                                0   \n",
       "12350                                      0                                0   \n",
       "...                                      ...                              ...   \n",
       "18280                                      0                                0   \n",
       "18281                                      0                                0   \n",
       "18282                                      0                                0   \n",
       "18283                                      0                                0   \n",
       "18287                                      0                                0   \n",
       "\n",
       "Description  ZINC TOP  2 DOOR WOODEN SHELF   ZINC WILLIE WINKIE  CANDLE STICK  \\\n",
       "CustomerID                                                                      \n",
       "0                                         0                                 1   \n",
       "12347                                     0                                 0   \n",
       "12348                                     0                                 0   \n",
       "12349                                     0                                 0   \n",
       "12350                                     0                                 0   \n",
       "...                                     ...                               ...   \n",
       "18280                                     0                                 0   \n",
       "18281                                     0                                 0   \n",
       "18282                                     0                                 0   \n",
       "18283                                     0                                 0   \n",
       "18287                                     0                                 0   \n",
       "\n",
       "Description  ZINC WIRE KITCHEN ORGANISER  ZINC WIRE SWEETHEART LETTER TRAY  \n",
       "CustomerID                                                                  \n",
       "0                                      1                                 0  \n",
       "12347                                  0                                 0  \n",
       "12348                                  0                                 0  \n",
       "12349                                  0                                 0  \n",
       "12350                                  0                                 0  \n",
       "...                                  ...                               ...  \n",
       "18280                                  0                                 0  \n",
       "18281                                  0                                 0  \n",
       "18282                                  0                                 0  \n",
       "18283                                  0                                 0  \n",
       "18287                                  0                                 0  \n",
       "\n",
       "[4226 rows x 3857 columns]"
      ]
     },
     "execution_count": 12,
     "metadata": {},
     "output_type": "execute_result"
    }
   ],
   "source": [
    "df_two_or_more"
   ]
  },
  {
   "cell_type": "markdown",
   "metadata": {
    "id": "anLbrWbVg6Hq"
   },
   "source": [
    "### Apriori Algorithm"
   ]
  },
  {
   "cell_type": "code",
   "execution_count": 13,
   "metadata": {
    "colab": {
     "base_uri": "https://localhost:8080/",
     "height": 419
    },
    "id": "_wjqWn_y58fB",
    "outputId": "72d4dbaa-ec9d-4fd9-92f9-5d609125f391"
   },
   "outputs": [
    {
     "data": {
      "text/html": [
       "<div>\n",
       "<style scoped>\n",
       "    .dataframe tbody tr th:only-of-type {\n",
       "        vertical-align: middle;\n",
       "    }\n",
       "\n",
       "    .dataframe tbody tr th {\n",
       "        vertical-align: top;\n",
       "    }\n",
       "\n",
       "    .dataframe thead th {\n",
       "        text-align: right;\n",
       "    }\n",
       "</style>\n",
       "<table border=\"1\" class=\"dataframe\">\n",
       "  <thead>\n",
       "    <tr style=\"text-align: right;\">\n",
       "      <th></th>\n",
       "      <th>support</th>\n",
       "      <th>itemsets</th>\n",
       "    </tr>\n",
       "  </thead>\n",
       "  <tbody>\n",
       "    <tr>\n",
       "      <th>0</th>\n",
       "      <td>0.193090</td>\n",
       "      <td>(WHITE HANGING HEART T-LIGHT HOLDER)</td>\n",
       "    </tr>\n",
       "    <tr>\n",
       "      <th>1</th>\n",
       "      <td>0.157123</td>\n",
       "      <td>(ASSORTED COLOUR BIRD ORNAMENT)</td>\n",
       "    </tr>\n",
       "    <tr>\n",
       "      <th>2</th>\n",
       "      <td>0.154520</td>\n",
       "      <td>(PARTY BUNTING)</td>\n",
       "    </tr>\n",
       "    <tr>\n",
       "      <th>3</th>\n",
       "      <td>0.146947</td>\n",
       "      <td>(REGENCY CAKESTAND 3 TIER)</td>\n",
       "    </tr>\n",
       "    <tr>\n",
       "      <th>4</th>\n",
       "      <td>0.137482</td>\n",
       "      <td>(JUMBO BAG RED RETROSPOT)</td>\n",
       "    </tr>\n",
       "    <tr>\n",
       "      <th>...</th>\n",
       "      <td>...</td>\n",
       "      <td>...</td>\n",
       "    </tr>\n",
       "    <tr>\n",
       "      <th>1283</th>\n",
       "      <td>0.030052</td>\n",
       "      <td>(METAL SIGN EMPIRE TEA)</td>\n",
       "    </tr>\n",
       "    <tr>\n",
       "      <th>1284</th>\n",
       "      <td>0.030052</td>\n",
       "      <td>(HOME BUILDING BLOCK WORD, ASSORTED COLOUR BIR...</td>\n",
       "    </tr>\n",
       "    <tr>\n",
       "      <th>1285</th>\n",
       "      <td>0.030052</td>\n",
       "      <td>(TOILET SIGN OCCUPIED OR VACANT)</td>\n",
       "    </tr>\n",
       "    <tr>\n",
       "      <th>1286</th>\n",
       "      <td>0.030052</td>\n",
       "      <td>(3 RAFFIA RIBBONS 50'S CHRISTMAS )</td>\n",
       "    </tr>\n",
       "    <tr>\n",
       "      <th>1287</th>\n",
       "      <td>0.030052</td>\n",
       "      <td>(LUNCH BAG PINK POLKADOT, LUNCH BAG SUKI DESIG...</td>\n",
       "    </tr>\n",
       "  </tbody>\n",
       "</table>\n",
       "<p>1288 rows × 2 columns</p>\n",
       "</div>"
      ],
      "text/plain": [
       "       support                                           itemsets\n",
       "0     0.193090               (WHITE HANGING HEART T-LIGHT HOLDER)\n",
       "1     0.157123                    (ASSORTED COLOUR BIRD ORNAMENT)\n",
       "2     0.154520                                    (PARTY BUNTING)\n",
       "3     0.146947                         (REGENCY CAKESTAND 3 TIER)\n",
       "4     0.137482                          (JUMBO BAG RED RETROSPOT)\n",
       "...        ...                                                ...\n",
       "1283  0.030052                            (METAL SIGN EMPIRE TEA)\n",
       "1284  0.030052  (HOME BUILDING BLOCK WORD, ASSORTED COLOUR BIR...\n",
       "1285  0.030052                   (TOILET SIGN OCCUPIED OR VACANT)\n",
       "1286  0.030052                 (3 RAFFIA RIBBONS 50'S CHRISTMAS )\n",
       "1287  0.030052  (LUNCH BAG PINK POLKADOT, LUNCH BAG SUKI DESIG...\n",
       "\n",
       "[1288 rows x 2 columns]"
      ]
     },
     "execution_count": 13,
     "metadata": {},
     "output_type": "execute_result"
    }
   ],
   "source": [
    "apriori_results = apriori(df_two_or_more, min_support=.03, use_colnames=True)\n",
    "apriori_results = apriori_results.sort_values(by='support', ascending=False).reset_index(drop=True)\n",
    "\n",
    "apriori_results"
   ]
  },
  {
   "cell_type": "code",
   "execution_count": 14,
   "metadata": {
    "id": "awuxDJpG6A4-"
   },
   "outputs": [],
   "source": [
    "apriori_results['num_items'] = apriori_results['itemsets'].apply(lambda x: len(x))"
   ]
  },
  {
   "cell_type": "code",
   "execution_count": 15,
   "metadata": {
    "colab": {
     "base_uri": "https://localhost:8080/",
     "height": 419
    },
    "id": "jqZcrsNO6Fxc",
    "outputId": "cf84a987-be50-47a1-fee2-458f0ff7c447"
   },
   "outputs": [
    {
     "data": {
      "text/html": [
       "<div>\n",
       "<style scoped>\n",
       "    .dataframe tbody tr th:only-of-type {\n",
       "        vertical-align: middle;\n",
       "    }\n",
       "\n",
       "    .dataframe tbody tr th {\n",
       "        vertical-align: top;\n",
       "    }\n",
       "\n",
       "    .dataframe thead th {\n",
       "        text-align: right;\n",
       "    }\n",
       "</style>\n",
       "<table border=\"1\" class=\"dataframe\">\n",
       "  <thead>\n",
       "    <tr style=\"text-align: right;\">\n",
       "      <th></th>\n",
       "      <th>support</th>\n",
       "      <th>itemsets</th>\n",
       "      <th>num_items</th>\n",
       "    </tr>\n",
       "  </thead>\n",
       "  <tbody>\n",
       "    <tr>\n",
       "      <th>1287</th>\n",
       "      <td>0.030052</td>\n",
       "      <td>(LUNCH BAG PINK POLKADOT, LUNCH BAG SUKI DESIG...</td>\n",
       "      <td>5</td>\n",
       "    </tr>\n",
       "    <tr>\n",
       "      <th>1144</th>\n",
       "      <td>0.031235</td>\n",
       "      <td>(LUNCH BAG RED RETROSPOT, LUNCH BAG ALPHABET D...</td>\n",
       "      <td>4</td>\n",
       "    </tr>\n",
       "    <tr>\n",
       "      <th>1061</th>\n",
       "      <td>0.031708</td>\n",
       "      <td>(LUNCH BAG RED RETROSPOT, LUNCH BAG  BLACK SKU...</td>\n",
       "      <td>4</td>\n",
       "    </tr>\n",
       "    <tr>\n",
       "      <th>1088</th>\n",
       "      <td>0.031472</td>\n",
       "      <td>(LUNCH BAG RED RETROSPOT, LUNCH BAG PINK POLKA...</td>\n",
       "      <td>4</td>\n",
       "    </tr>\n",
       "    <tr>\n",
       "      <th>1095</th>\n",
       "      <td>0.031472</td>\n",
       "      <td>(LUNCH BAG SUKI DESIGN , LUNCH BAG CARS BLUE, ...</td>\n",
       "      <td>4</td>\n",
       "    </tr>\n",
       "    <tr>\n",
       "      <th>...</th>\n",
       "      <td>...</td>\n",
       "      <td>...</td>\n",
       "      <td>...</td>\n",
       "    </tr>\n",
       "    <tr>\n",
       "      <th>350</th>\n",
       "      <td>0.044960</td>\n",
       "      <td>(PINK HAPPY BIRTHDAY BUNTING)</td>\n",
       "      <td>1</td>\n",
       "    </tr>\n",
       "    <tr>\n",
       "      <th>849</th>\n",
       "      <td>0.034075</td>\n",
       "      <td>(TREASURE TIN GYMKHANA DESIGN)</td>\n",
       "      <td>1</td>\n",
       "    </tr>\n",
       "    <tr>\n",
       "      <th>850</th>\n",
       "      <td>0.034075</td>\n",
       "      <td>(MEMO BOARD COTTAGE DESIGN)</td>\n",
       "      <td>1</td>\n",
       "    </tr>\n",
       "    <tr>\n",
       "      <th>851</th>\n",
       "      <td>0.034075</td>\n",
       "      <td>(3 TRADITIONAl BISCUIT CUTTERS  SET)</td>\n",
       "      <td>1</td>\n",
       "    </tr>\n",
       "    <tr>\n",
       "      <th>0</th>\n",
       "      <td>0.193090</td>\n",
       "      <td>(WHITE HANGING HEART T-LIGHT HOLDER)</td>\n",
       "      <td>1</td>\n",
       "    </tr>\n",
       "  </tbody>\n",
       "</table>\n",
       "<p>1288 rows × 3 columns</p>\n",
       "</div>"
      ],
      "text/plain": [
       "       support                                           itemsets  num_items\n",
       "1287  0.030052  (LUNCH BAG PINK POLKADOT, LUNCH BAG SUKI DESIG...          5\n",
       "1144  0.031235  (LUNCH BAG RED RETROSPOT, LUNCH BAG ALPHABET D...          4\n",
       "1061  0.031708  (LUNCH BAG RED RETROSPOT, LUNCH BAG  BLACK SKU...          4\n",
       "1088  0.031472  (LUNCH BAG RED RETROSPOT, LUNCH BAG PINK POLKA...          4\n",
       "1095  0.031472  (LUNCH BAG SUKI DESIGN , LUNCH BAG CARS BLUE, ...          4\n",
       "...        ...                                                ...        ...\n",
       "350   0.044960                      (PINK HAPPY BIRTHDAY BUNTING)          1\n",
       "849   0.034075                     (TREASURE TIN GYMKHANA DESIGN)          1\n",
       "850   0.034075                        (MEMO BOARD COTTAGE DESIGN)          1\n",
       "851   0.034075               (3 TRADITIONAl BISCUIT CUTTERS  SET)          1\n",
       "0     0.193090               (WHITE HANGING HEART T-LIGHT HOLDER)          1\n",
       "\n",
       "[1288 rows x 3 columns]"
      ]
     },
     "execution_count": 15,
     "metadata": {},
     "output_type": "execute_result"
    }
   ],
   "source": [
    "apriori_results.sort_values(by='num_items', ascending=False)"
   ]
  },
  {
   "cell_type": "markdown",
   "metadata": {
    "id": "UXXg9WRohGAG"
   },
   "source": [
    "### Association Rules"
   ]
  },
  {
   "cell_type": "code",
   "execution_count": 18,
   "metadata": {
    "colab": {
     "base_uri": "https://localhost:8080/",
     "height": 1000
    },
    "id": "5L81WaeG6Kr9",
    "outputId": "78b86042-4feb-455e-80e5-57547a4d7a92"
   },
   "outputs": [
    {
     "data": {
      "text/html": [
       "<div>\n",
       "<style scoped>\n",
       "    .dataframe tbody tr th:only-of-type {\n",
       "        vertical-align: middle;\n",
       "    }\n",
       "\n",
       "    .dataframe tbody tr th {\n",
       "        vertical-align: top;\n",
       "    }\n",
       "\n",
       "    .dataframe thead th {\n",
       "        text-align: right;\n",
       "    }\n",
       "</style>\n",
       "<table border=\"1\" class=\"dataframe\">\n",
       "  <thead>\n",
       "    <tr style=\"text-align: right;\">\n",
       "      <th></th>\n",
       "      <th>antecedents</th>\n",
       "      <th>consequents</th>\n",
       "      <th>antecedent support</th>\n",
       "      <th>consequent support</th>\n",
       "      <th>support</th>\n",
       "      <th>confidence</th>\n",
       "      <th>lift</th>\n",
       "      <th>leverage</th>\n",
       "      <th>conviction</th>\n",
       "    </tr>\n",
       "  </thead>\n",
       "  <tbody>\n",
       "    <tr>\n",
       "      <th>1527</th>\n",
       "      <td>(REGENCY TEA PLATE GREEN , ROSES REGENCY TEACU...</td>\n",
       "      <td>(REGENCY TEA PLATE ROSES , GREEN REGENCY TEACU...</td>\n",
       "      <td>0.035731</td>\n",
       "      <td>0.035731</td>\n",
       "      <td>0.032892</td>\n",
       "      <td>0.920530</td>\n",
       "      <td>25.762642</td>\n",
       "      <td>0.031615</td>\n",
       "      <td>12.133716</td>\n",
       "    </tr>\n",
       "    <tr>\n",
       "      <th>1526</th>\n",
       "      <td>(REGENCY TEA PLATE ROSES , GREEN REGENCY TEACU...</td>\n",
       "      <td>(REGENCY TEA PLATE GREEN , ROSES REGENCY TEACU...</td>\n",
       "      <td>0.035731</td>\n",
       "      <td>0.035731</td>\n",
       "      <td>0.032892</td>\n",
       "      <td>0.920530</td>\n",
       "      <td>25.762642</td>\n",
       "      <td>0.031615</td>\n",
       "      <td>12.133716</td>\n",
       "    </tr>\n",
       "    <tr>\n",
       "      <th>1994</th>\n",
       "      <td>(REGENCY TEA PLATE ROSES , REGENCY TEA PLATE G...</td>\n",
       "      <td>(REGENCY TEA PLATE PINK)</td>\n",
       "      <td>0.038807</td>\n",
       "      <td>0.036914</td>\n",
       "      <td>0.031472</td>\n",
       "      <td>0.810976</td>\n",
       "      <td>21.969121</td>\n",
       "      <td>0.030039</td>\n",
       "      <td>5.095034</td>\n",
       "    </tr>\n",
       "    <tr>\n",
       "      <th>1999</th>\n",
       "      <td>(REGENCY TEA PLATE PINK)</td>\n",
       "      <td>(REGENCY TEA PLATE ROSES , REGENCY TEA PLATE G...</td>\n",
       "      <td>0.036914</td>\n",
       "      <td>0.038807</td>\n",
       "      <td>0.031472</td>\n",
       "      <td>0.852564</td>\n",
       "      <td>21.969121</td>\n",
       "      <td>0.030039</td>\n",
       "      <td>6.519393</td>\n",
       "    </tr>\n",
       "    <tr>\n",
       "      <th>2669</th>\n",
       "      <td>(REGENCY TEA PLATE GREEN , GREEN REGENCY TEACU...</td>\n",
       "      <td>(REGENCY TEA PLATE PINK)</td>\n",
       "      <td>0.037624</td>\n",
       "      <td>0.036914</td>\n",
       "      <td>0.030052</td>\n",
       "      <td>0.798742</td>\n",
       "      <td>21.637720</td>\n",
       "      <td>0.028663</td>\n",
       "      <td>4.785332</td>\n",
       "    </tr>\n",
       "    <tr>\n",
       "      <th>2672</th>\n",
       "      <td>(REGENCY TEA PLATE PINK)</td>\n",
       "      <td>(REGENCY TEA PLATE GREEN , GREEN REGENCY TEACU...</td>\n",
       "      <td>0.036914</td>\n",
       "      <td>0.037624</td>\n",
       "      <td>0.030052</td>\n",
       "      <td>0.814103</td>\n",
       "      <td>21.637720</td>\n",
       "      <td>0.028663</td>\n",
       "      <td>5.176918</td>\n",
       "    </tr>\n",
       "    <tr>\n",
       "      <th>871</th>\n",
       "      <td>(SET/6 RED SPOTTY PAPER PLATES)</td>\n",
       "      <td>(SET/6 RED SPOTTY PAPER CUPS)</td>\n",
       "      <td>0.041884</td>\n",
       "      <td>0.039517</td>\n",
       "      <td>0.035731</td>\n",
       "      <td>0.853107</td>\n",
       "      <td>21.588213</td>\n",
       "      <td>0.034076</td>\n",
       "      <td>6.538671</td>\n",
       "    </tr>\n",
       "    <tr>\n",
       "      <th>870</th>\n",
       "      <td>(SET/6 RED SPOTTY PAPER CUPS)</td>\n",
       "      <td>(SET/6 RED SPOTTY PAPER PLATES)</td>\n",
       "      <td>0.039517</td>\n",
       "      <td>0.041884</td>\n",
       "      <td>0.035731</td>\n",
       "      <td>0.904192</td>\n",
       "      <td>21.588213</td>\n",
       "      <td>0.034076</td>\n",
       "      <td>10.000340</td>\n",
       "    </tr>\n",
       "    <tr>\n",
       "      <th>2670</th>\n",
       "      <td>(REGENCY TEA PLATE PINK, GREEN REGENCY TEACUP ...</td>\n",
       "      <td>(REGENCY TEA PLATE GREEN )</td>\n",
       "      <td>0.030999</td>\n",
       "      <td>0.045670</td>\n",
       "      <td>0.030052</td>\n",
       "      <td>0.969466</td>\n",
       "      <td>21.227782</td>\n",
       "      <td>0.028636</td>\n",
       "      <td>31.254319</td>\n",
       "    </tr>\n",
       "    <tr>\n",
       "      <th>2671</th>\n",
       "      <td>(REGENCY TEA PLATE GREEN )</td>\n",
       "      <td>(REGENCY TEA PLATE PINK, GREEN REGENCY TEACUP ...</td>\n",
       "      <td>0.045670</td>\n",
       "      <td>0.030999</td>\n",
       "      <td>0.030052</td>\n",
       "      <td>0.658031</td>\n",
       "      <td>21.227782</td>\n",
       "      <td>0.028636</td>\n",
       "      <td>2.833595</td>\n",
       "    </tr>\n",
       "  </tbody>\n",
       "</table>\n",
       "</div>"
      ],
      "text/plain": [
       "                                            antecedents  \\\n",
       "1527  (REGENCY TEA PLATE GREEN , ROSES REGENCY TEACU...   \n",
       "1526  (REGENCY TEA PLATE ROSES , GREEN REGENCY TEACU...   \n",
       "1994  (REGENCY TEA PLATE ROSES , REGENCY TEA PLATE G...   \n",
       "1999                           (REGENCY TEA PLATE PINK)   \n",
       "2669  (REGENCY TEA PLATE GREEN , GREEN REGENCY TEACU...   \n",
       "2672                           (REGENCY TEA PLATE PINK)   \n",
       "871                     (SET/6 RED SPOTTY PAPER PLATES)   \n",
       "870                       (SET/6 RED SPOTTY PAPER CUPS)   \n",
       "2670  (REGENCY TEA PLATE PINK, GREEN REGENCY TEACUP ...   \n",
       "2671                         (REGENCY TEA PLATE GREEN )   \n",
       "\n",
       "                                            consequents  antecedent support  \\\n",
       "1527  (REGENCY TEA PLATE ROSES , GREEN REGENCY TEACU...            0.035731   \n",
       "1526  (REGENCY TEA PLATE GREEN , ROSES REGENCY TEACU...            0.035731   \n",
       "1994                           (REGENCY TEA PLATE PINK)            0.038807   \n",
       "1999  (REGENCY TEA PLATE ROSES , REGENCY TEA PLATE G...            0.036914   \n",
       "2669                           (REGENCY TEA PLATE PINK)            0.037624   \n",
       "2672  (REGENCY TEA PLATE GREEN , GREEN REGENCY TEACU...            0.036914   \n",
       "871                       (SET/6 RED SPOTTY PAPER CUPS)            0.041884   \n",
       "870                     (SET/6 RED SPOTTY PAPER PLATES)            0.039517   \n",
       "2670                         (REGENCY TEA PLATE GREEN )            0.030999   \n",
       "2671  (REGENCY TEA PLATE PINK, GREEN REGENCY TEACUP ...            0.045670   \n",
       "\n",
       "      consequent support   support  confidence       lift  leverage  \\\n",
       "1527            0.035731  0.032892    0.920530  25.762642  0.031615   \n",
       "1526            0.035731  0.032892    0.920530  25.762642  0.031615   \n",
       "1994            0.036914  0.031472    0.810976  21.969121  0.030039   \n",
       "1999            0.038807  0.031472    0.852564  21.969121  0.030039   \n",
       "2669            0.036914  0.030052    0.798742  21.637720  0.028663   \n",
       "2672            0.037624  0.030052    0.814103  21.637720  0.028663   \n",
       "871             0.039517  0.035731    0.853107  21.588213  0.034076   \n",
       "870             0.041884  0.035731    0.904192  21.588213  0.034076   \n",
       "2670            0.045670  0.030052    0.969466  21.227782  0.028636   \n",
       "2671            0.030999  0.030052    0.658031  21.227782  0.028636   \n",
       "\n",
       "      conviction  \n",
       "1527   12.133716  \n",
       "1526   12.133716  \n",
       "1994    5.095034  \n",
       "1999    6.519393  \n",
       "2669    4.785332  \n",
       "2672    5.176918  \n",
       "871     6.538671  \n",
       "870    10.000340  \n",
       "2670   31.254319  \n",
       "2671    2.833595  "
      ]
     },
     "execution_count": 18,
     "metadata": {},
     "output_type": "execute_result"
    }
   ],
   "source": [
    "assoc_rule_results = association_rules(apriori_results, metric='lift', min_threshold=1)\n",
    "assoc_rule_results.sort_values(by='lift', ascending=False).head(10)"
   ]
  },
  {
   "cell_type": "markdown",
   "metadata": {
    "id": "4EYbjm6QhL66"
   },
   "source": [
    "### Visualizations Using Pycaret Library"
   ]
  },
  {
   "cell_type": "code",
   "execution_count": 19,
   "metadata": {
    "colab": {
     "base_uri": "https://localhost:8080/",
     "height": 524
    },
    "id": "thsbo8He6ej4",
    "outputId": "a539aa52-43ba-4038-d6be-8d21ee88233e"
   },
   "outputs": [
    {
     "data": {
      "text/html": [
       "<style  type=\"text/css\" >\n",
       "</style><table id=\"T_a4575db8_89a8_11ec_8edd_26634206c823\" ><thead>    <tr>        <th class=\"col_heading level0 col0\" >Description</th>        <th class=\"col_heading level0 col1\" >Value</th>    </tr></thead><tbody>\n",
       "                <tr>\n",
       "                                <td id=\"T_a4575db8_89a8_11ec_8edd_26634206c823row0_col0\" class=\"data row0 col0\" >session_id</td>\n",
       "                        <td id=\"T_a4575db8_89a8_11ec_8edd_26634206c823row0_col1\" class=\"data row0 col1\" >5488</td>\n",
       "            </tr>\n",
       "            <tr>\n",
       "                                <td id=\"T_a4575db8_89a8_11ec_8edd_26634206c823row1_col0\" class=\"data row1 col0\" ># Transactions</td>\n",
       "                        <td id=\"T_a4575db8_89a8_11ec_8edd_26634206c823row1_col1\" class=\"data row1 col1\" >4328</td>\n",
       "            </tr>\n",
       "            <tr>\n",
       "                                <td id=\"T_a4575db8_89a8_11ec_8edd_26634206c823row2_col0\" class=\"data row2 col0\" ># Items</td>\n",
       "                        <td id=\"T_a4575db8_89a8_11ec_8edd_26634206c823row2_col1\" class=\"data row2 col1\" >3857</td>\n",
       "            </tr>\n",
       "            <tr>\n",
       "                                <td id=\"T_a4575db8_89a8_11ec_8edd_26634206c823row3_col0\" class=\"data row3 col0\" >Ignore Items</td>\n",
       "                        <td id=\"T_a4575db8_89a8_11ec_8edd_26634206c823row3_col1\" class=\"data row3 col1\" >None</td>\n",
       "            </tr>\n",
       "    </tbody></table>"
      ],
      "text/plain": [
       "<pandas.io.formats.style.Styler at 0x7fbfb3150e20>"
      ]
     },
     "metadata": {},
     "output_type": "display_data"
    },
    {
     "data": {
      "text/html": [
       "        <script type=\"text/javascript\">\n",
       "        window.PlotlyConfig = {MathJaxConfig: 'local'};\n",
       "        if (window.MathJax) {MathJax.Hub.Config({SVG: {font: \"STIX-Web\"}});}\n",
       "        if (typeof require !== 'undefined') {\n",
       "        require.undef(\"plotly\");\n",
       "        requirejs.config({\n",
       "            paths: {\n",
       "                'plotly': ['https://cdn.plot.ly/plotly-2.4.2.min']\n",
       "            }\n",
       "        });\n",
       "        require(['plotly'], function(Plotly) {\n",
       "            window._Plotly = Plotly;\n",
       "        });\n",
       "        }\n",
       "        </script>\n",
       "        "
      ]
     },
     "metadata": {},
     "output_type": "display_data"
    },
    {
     "data": {
      "application/vnd.plotly.v1+json": {
       "config": {
        "plotlyServerURL": "https://plot.ly"
       },
       "data": [
        {
         "customdata": [
          [
           "PINK REGENCY TEACUP AND SAUCER",
           "ROSES REGENCY TEACUP AND SAUCER "
          ],
          [
           "ROSES REGENCY TEACUP AND SAUCER ",
           "PINK REGENCY TEACUP AND SAUCER"
          ],
          [
           "ALARM CLOCK BAKELIKE RED ",
           "ALARM CLOCK BAKELIKE GREEN"
          ],
          [
           "ALARM CLOCK BAKELIKE GREEN",
           "ALARM CLOCK BAKELIKE RED "
          ],
          [
           "ROSES REGENCY TEACUP AND SAUCER ",
           "GREEN REGENCY TEACUP AND SAUCER"
          ],
          [
           "GREEN REGENCY TEACUP AND SAUCER",
           "ROSES REGENCY TEACUP AND SAUCER "
          ],
          [
           "GREEN REGENCY TEACUP AND SAUCER",
           "PINK REGENCY TEACUP AND SAUCER"
          ],
          [
           "PINK REGENCY TEACUP AND SAUCER",
           "GREEN REGENCY TEACUP AND SAUCER"
          ],
          [
           "GARDENERS KNEELING PAD CUP OF TEA ",
           "GARDENERS KNEELING PAD KEEP CALM "
          ],
          [
           "GARDENERS KNEELING PAD KEEP CALM ",
           "GARDENERS KNEELING PAD CUP OF TEA "
          ],
          [
           "WOODEN HEART CHRISTMAS SCANDINAVIAN",
           "WOODEN STAR CHRISTMAS SCANDINAVIAN"
          ],
          [
           "WOODEN STAR CHRISTMAS SCANDINAVIAN",
           "WOODEN HEART CHRISTMAS SCANDINAVIAN"
          ],
          [
           "ROSES REGENCY TEACUP AND SAUCER ",
           "GREEN REGENCY TEACUP AND SAUCER"
          ],
          [
           "GREEN REGENCY TEACUP AND SAUCER",
           "ROSES REGENCY TEACUP AND SAUCER "
          ],
          [
           "PINK REGENCY TEACUP AND SAUCER",
           "ROSES REGENCY TEACUP AND SAUCER "
          ],
          [
           "ROSES REGENCY TEACUP AND SAUCER ",
           "PINK REGENCY TEACUP AND SAUCER"
          ],
          [
           "GREEN REGENCY TEACUP AND SAUCER",
           "ROSES REGENCY TEACUP AND SAUCER "
          ],
          [
           "ROSES REGENCY TEACUP AND SAUCER ",
           "GREEN REGENCY TEACUP AND SAUCER"
          ],
          [
           "WOODEN PICTURE FRAME WHITE FINISH",
           "WOODEN FRAME ANTIQUE WHITE "
          ],
          [
           "WOODEN FRAME ANTIQUE WHITE ",
           "WOODEN PICTURE FRAME WHITE FINISH"
          ],
          [
           "LUNCH BAG WOODLAND",
           "LUNCH BAG SPACEBOY DESIGN "
          ],
          [
           "LUNCH BAG SPACEBOY DESIGN ",
           "LUNCH BAG WOODLAND"
          ],
          [
           "LUNCH BAG SUKI DESIGN ",
           "LUNCH BAG CARS BLUE"
          ],
          [
           "LUNCH BAG CARS BLUE",
           "LUNCH BAG SUKI DESIGN "
          ],
          [
           "LUNCH BAG  BLACK SKULL.",
           "LUNCH BAG SUKI DESIGN "
          ],
          [
           "LUNCH BAG SUKI DESIGN ",
           "LUNCH BAG  BLACK SKULL."
          ],
          [
           "LUNCH BAG SUKI DESIGN ",
           "LUNCH BAG SPACEBOY DESIGN "
          ],
          [
           "LUNCH BAG SPACEBOY DESIGN ",
           "LUNCH BAG SUKI DESIGN "
          ],
          [
           "LUNCH BAG PINK POLKADOT",
           "LUNCH BAG  BLACK SKULL."
          ],
          [
           "LUNCH BAG  BLACK SKULL.",
           "LUNCH BAG PINK POLKADOT"
          ],
          [
           "LUNCH BAG CARS BLUE",
           "LUNCH BAG PINK POLKADOT"
          ],
          [
           "LUNCH BAG PINK POLKADOT",
           "LUNCH BAG CARS BLUE"
          ],
          [
           "LUNCH BAG WOODLAND",
           "LUNCH BAG CARS BLUE"
          ],
          [
           "LUNCH BAG CARS BLUE",
           "LUNCH BAG WOODLAND"
          ],
          [
           "LUNCH BAG WOODLAND",
           "LUNCH BAG RED RETROSPOT"
          ],
          [
           "LUNCH BAG RED RETROSPOT",
           "LUNCH BAG WOODLAND"
          ],
          [
           "LUNCH BAG RED RETROSPOT",
           "LUNCH BAG  BLACK SKULL."
          ],
          [
           "LUNCH BAG  BLACK SKULL.",
           "LUNCH BAG RED RETROSPOT"
          ],
          [
           "JUMBO BAG STRAWBERRY",
           "JUMBO BAG RED RETROSPOT"
          ],
          [
           "JUMBO BAG RED RETROSPOT",
           "JUMBO BAG STRAWBERRY"
          ],
          [
           "LUNCH BAG RED RETROSPOT",
           "LUNCH BAG SUKI DESIGN "
          ],
          [
           "LUNCH BAG SUKI DESIGN ",
           "LUNCH BAG RED RETROSPOT"
          ],
          [
           "LUNCH BAG RED RETROSPOT",
           "LUNCH BAG PINK POLKADOT"
          ],
          [
           "LUNCH BAG PINK POLKADOT",
           "LUNCH BAG RED RETROSPOT"
          ],
          [
           "JUMBO BAG RED RETROSPOT",
           "JUMBO BAG PINK POLKADOT"
          ],
          [
           "JUMBO BAG PINK POLKADOT",
           "JUMBO BAG RED RETROSPOT"
          ],
          [
           "PAPER CHAIN KIT VINTAGE CHRISTMAS",
           "S CHRISTMAS \"})"
          ],
          [
           "S CHRISTMAS \"})",
           "PAPER CHAIN KIT VINTAGE CHRISTMAS"
          ],
          [
           "LUNCH BAG RED RETROSPOT",
           "LUNCH BAG CARS BLUE"
          ],
          [
           "LUNCH BAG CARS BLUE",
           "LUNCH BAG RED RETROSPOT"
          ],
          [
           "LUNCH BAG SPACEBOY DESIGN ",
           "LUNCH BAG  BLACK SKULL."
          ],
          [
           "LUNCH BAG  BLACK SKULL.",
           "LUNCH BAG SPACEBOY DESIGN "
          ],
          [
           "LUNCH BAG SPACEBOY DESIGN ",
           "LUNCH BAG CARS BLUE"
          ],
          [
           "LUNCH BAG CARS BLUE",
           "LUNCH BAG SPACEBOY DESIGN "
          ],
          [
           "LUNCH BAG APPLE DESIGN",
           "LUNCH BAG RED RETROSPOT"
          ],
          [
           "LUNCH BAG RED RETROSPOT",
           "LUNCH BAG APPLE DESIGN"
          ],
          [
           "LUNCH BAG PINK POLKADOT",
           "LUNCH BAG SPACEBOY DESIGN "
          ],
          [
           "LUNCH BAG SPACEBOY DESIGN ",
           "LUNCH BAG PINK POLKADOT"
          ],
          [
           "LUNCH BAG CARS BLUE",
           "LUNCH BAG  BLACK SKULL."
          ],
          [
           "LUNCH BAG  BLACK SKULL.",
           "LUNCH BAG CARS BLUE"
          ],
          [
           "LUNCH BAG RED RETROSPOT",
           "LUNCH BAG SPACEBOY DESIGN "
          ],
          [
           "LUNCH BAG SPACEBOY DESIGN ",
           "LUNCH BAG RED RETROSPOT"
          ],
          [
           "JUMBO BAG APPLES",
           "JUMBO BAG RED RETROSPOT"
          ],
          [
           "JUMBO BAG RED RETROSPOT",
           "JUMBO BAG APPLES"
          ],
          [
           "SET OF 6 SPICE TINS PANTRY DESIGN",
           "SET OF 3 CAKE TINS PANTRY DESIGN "
          ],
          [
           "SET OF 3 CAKE TINS PANTRY DESIGN ",
           "SET OF 6 SPICE TINS PANTRY DESIGN"
          ],
          [
           "PACK OF 60 PINK PAISLEY CAKE CASES",
           "PACK OF 72 RETROSPOT CAKE CASES"
          ],
          [
           "PACK OF 72 RETROSPOT CAKE CASES",
           "PACK OF 60 PINK PAISLEY CAKE CASES"
          ],
          [
           "HEART OF WICKER SMALL",
           "HEART OF WICKER LARGE"
          ],
          [
           "HEART OF WICKER LARGE",
           "HEART OF WICKER SMALL"
          ],
          [
           "60 TEATIME FAIRY CAKE CASES",
           "PACK OF 72 RETROSPOT CAKE CASES"
          ],
          [
           "PACK OF 72 RETROSPOT CAKE CASES",
           "60 TEATIME FAIRY CAKE CASES"
          ],
          [
           "JUMBO BAG VINTAGE DOILY ",
           "JUMBO BAG RED RETROSPOT"
          ],
          [
           "JUMBO BAG RED RETROSPOT",
           "JUMBO BAG VINTAGE DOILY "
          ],
          [
           "REGENCY CAKESTAND 3 TIER",
           "GREEN REGENCY TEACUP AND SAUCER"
          ],
          [
           "GREEN REGENCY TEACUP AND SAUCER",
           "REGENCY CAKESTAND 3 TIER"
          ],
          [
           "JUMBO BAG RED RETROSPOT",
           "JUMBO BAG ALPHABET"
          ],
          [
           "JUMBO BAG ALPHABET",
           "JUMBO BAG RED RETROSPOT"
          ],
          [
           "REGENCY CAKESTAND 3 TIER",
           "ROSES REGENCY TEACUP AND SAUCER "
          ],
          [
           "ROSES REGENCY TEACUP AND SAUCER ",
           "REGENCY CAKESTAND 3 TIER"
          ],
          [
           "RECIPE BOX PANTRY YELLOW DESIGN",
           "SET OF 3 CAKE TINS PANTRY DESIGN "
          ],
          [
           "SET OF 3 CAKE TINS PANTRY DESIGN ",
           "RECIPE BOX PANTRY YELLOW DESIGN"
          ],
          [
           "RED HANGING HEART T-LIGHT HOLDER",
           "WHITE HANGING HEART T-LIGHT HOLDER"
          ],
          [
           "WHITE HANGING HEART T-LIGHT HOLDER",
           "RED HANGING HEART T-LIGHT HOLDER"
          ],
          [
           "JAM MAKING SET WITH JARS",
           "JAM MAKING SET PRINTED"
          ],
          [
           "JAM MAKING SET PRINTED",
           "JAM MAKING SET WITH JARS"
          ],
          [
           "LUNCH BAG RED RETROSPOT",
           "JUMBO BAG RED RETROSPOT"
          ],
          [
           "JUMBO BAG RED RETROSPOT",
           "LUNCH BAG RED RETROSPOT"
          ],
          [
           "SET OF 3 REGENCY CAKE TINS",
           "REGENCY CAKESTAND 3 TIER"
          ],
          [
           "REGENCY CAKESTAND 3 TIER",
           "SET OF 3 REGENCY CAKE TINS"
          ],
          [
           "SPOTTY BUNTING",
           "PARTY BUNTING"
          ],
          [
           "PARTY BUNTING",
           "SPOTTY BUNTING"
          ],
          [
           "HEART OF WICKER LARGE",
           "WHITE HANGING HEART T-LIGHT HOLDER"
          ],
          [
           "WHITE HANGING HEART T-LIGHT HOLDER",
           "HEART OF WICKER LARGE"
          ],
          [
           "WHITE HANGING HEART T-LIGHT HOLDER",
           "HEART OF WICKER SMALL"
          ],
          [
           "HEART OF WICKER SMALL",
           "WHITE HANGING HEART T-LIGHT HOLDER"
          ],
          [
           "WHITE HANGING HEART T-LIGHT HOLDER",
           "NATURAL SLATE HEART CHALKBOARD "
          ],
          [
           "NATURAL SLATE HEART CHALKBOARD ",
           "WHITE HANGING HEART T-LIGHT HOLDER"
          ],
          [
           "WHITE HANGING HEART T-LIGHT HOLDER",
           "PARTY BUNTING"
          ],
          [
           "PARTY BUNTING",
           "WHITE HANGING HEART T-LIGHT HOLDER"
          ],
          [
           "WHITE HANGING HEART T-LIGHT HOLDER",
           "ASSORTED COLOUR BIRD ORNAMENT"
          ],
          [
           "ASSORTED COLOUR BIRD ORNAMENT",
           "WHITE HANGING HEART T-LIGHT HOLDER"
          ]
         ],
         "hovertemplate": "support=%{x}<br>confidence=%{y}<br>lift=%{z}<br>antecedents=%{customdata[0]}<br>consequents=%{customdata[1]}<br>antecedent support=%{marker.color}<extra></extra>",
         "legendgroup": "",
         "marker": {
          "color": [
           0.0672,
           0.067,
           0.0719,
           0.0598,
           0.0573,
           0.0813,
           0.0813,
           0.0672,
           0.0691,
           0.0786,
           0.0772,
           0.0746,
           0.0908,
           0.0617,
           0.0672,
           0.0908,
           0.0813,
           0.0908,
           0.0892,
           0.0841,
           0.0793,
           0.0989,
           0.0839,
           0.1024,
           0.0957,
           0.0839,
           0.0839,
           0.0989,
           0.0943,
           0.0957,
           0.1024,
           0.0943,
           0.0793,
           0.1024,
           0.0793,
           0.1125,
           0.1125,
           0.0957,
           0.0635,
           0.1354,
           0.1125,
           0.0839,
           0.1125,
           0.0943,
           0.1354,
           0.0783,
           0.0945,
           0.1229,
           0.1125,
           0.1024,
           0.0989,
           0.0957,
           0.0989,
           0.1024,
           0.086,
           0.1125,
           0.0943,
           0.0989,
           0.1024,
           0.0957,
           0.1125,
           0.0989,
           0.0739,
           0.1354,
           0.0762,
           0.1303,
           0.0839,
           0.1324,
           0.1262,
           0.1,
           0.0829,
           0.1324,
           0.0744,
           0.1354,
           0.1439,
           0.0813,
           0.1354,
           0.0813,
           0.1439,
           0.0908,
           0.0887,
           0.1303,
           0.0797,
           0.1888,
           0.1148,
           0.1165,
           0.1125,
           0.1354,
           0.0991,
           0.1439,
           0.1195,
           0.1513,
           0.1,
           0.1888,
           0.1888,
           0.1262,
           0.1888,
           0.1273,
           0.1888,
           0.1513,
           0.1888,
           0.1534
          ],
          "coloraxis": "coloraxis",
          "opacity": 0.7,
          "symbol": "circle"
         },
         "mode": "markers",
         "name": "",
         "scene": "scene",
         "showlegend": false,
         "type": "scatter3d",
         "x": [
          0.0545,
          0.0545,
          0.0515,
          0.0515,
          0.0545,
          0.0545,
          0.0617,
          0.0617,
          0.0531,
          0.0531,
          0.0561,
          0.0561,
          0.0545,
          0.0545,
          0.0573,
          0.0573,
          0.067,
          0.067,
          0.0594,
          0.0594,
          0.0536,
          0.0536,
          0.0564,
          0.0564,
          0.0524,
          0.0524,
          0.0534,
          0.0534,
          0.058,
          0.058,
          0.061,
          0.061,
          0.0501,
          0.0501,
          0.0534,
          0.0534,
          0.0638,
          0.0638,
          0.0508,
          0.0508,
          0.0552,
          0.0552,
          0.0619,
          0.0619,
          0.0617,
          0.0617,
          0.0675,
          0.0675,
          0.0656,
          0.0656,
          0.0534,
          0.0534,
          0.0571,
          0.0571,
          0.0541,
          0.0541,
          0.052,
          0.052,
          0.0543,
          0.0543,
          0.0612,
          0.0612,
          0.0541,
          0.0541,
          0.0524,
          0.0524,
          0.0559,
          0.0559,
          0.0635,
          0.0635,
          0.055,
          0.055,
          0.0501,
          0.0501,
          0.0534,
          0.0534,
          0.0501,
          0.0501,
          0.0585,
          0.0585,
          0.0501,
          0.0501,
          0.064,
          0.064,
          0.0541,
          0.0541,
          0.0601,
          0.0601,
          0.0536,
          0.0536,
          0.0631,
          0.0631,
          0.0552,
          0.0552,
          0.0557,
          0.0557,
          0.0524,
          0.0524,
          0.0529,
          0.0529,
          0.0506,
          0.0506
         ],
         "y": [
          0.811,
          0.8138,
          0.717,
          0.861,
          0.9516,
          0.6705,
          0.7585,
          0.9175,
          0.7692,
          0.6765,
          0.7275,
          0.7523,
          0.6005,
          0.8839,
          0.8522,
          0.631,
          0.8239,
          0.7379,
          0.6658,
          0.706,
          0.6764,
          0.5421,
          0.6722,
          0.5508,
          0.5483,
          0.6253,
          0.6364,
          0.5397,
          0.6152,
          0.6063,
          0.5959,
          0.6471,
          0.6327,
          0.4898,
          0.6735,
          0.4743,
          0.5667,
          0.6667,
          0.8,
          0.3754,
          0.4908,
          0.6584,
          0.5503,
          0.6569,
          0.4556,
          0.7876,
          0.7139,
          0.5489,
          0.5832,
          0.6411,
          0.5397,
          0.558,
          0.5771,
          0.5576,
          0.629,
          0.4805,
          0.5515,
          0.5257,
          0.5305,
          0.5676,
          0.5441,
          0.6192,
          0.7312,
          0.3993,
          0.6879,
          0.4025,
          0.6667,
          0.4223,
          0.5037,
          0.6351,
          0.663,
          0.4154,
          0.6739,
          0.3703,
          0.3708,
          0.6562,
          0.3703,
          0.6165,
          0.4061,
          0.6438,
          0.5651,
          0.3848,
          0.8029,
          0.339,
          0.4708,
          0.4643,
          0.5339,
          0.4437,
          0.5408,
          0.3724,
          0.528,
          0.4168,
          0.552,
          0.2925,
          0.295,
          0.4414,
          0.2778,
          0.412,
          0.2803,
          0.3496,
          0.2681,
          0.3298
         ],
         "z": [
          12.1034,
          12.1034,
          11.9821,
          11.9821,
          11.7005,
          11.7005,
          11.2814,
          11.2814,
          9.7919,
          9.7919,
          9.7487,
          9.7487,
          9.7341,
          9.7341,
          9.3854,
          9.3854,
          9.073,
          9.073,
          7.9165,
          7.9165,
          6.8397,
          6.8397,
          6.567,
          6.567,
          6.5374,
          6.5374,
          6.435,
          6.435,
          6.4313,
          6.4313,
          6.3216,
          6.3216,
          6.1809,
          6.1809,
          5.9852,
          5.9852,
          5.9247,
          5.9247,
          5.9085,
          5.9085,
          5.8513,
          5.8513,
          5.8376,
          5.8376,
          5.817,
          5.817,
          5.8081,
          5.8081,
          5.6974,
          5.6974,
          5.6423,
          5.6423,
          5.6382,
          5.6382,
          5.5902,
          5.5902,
          5.5766,
          5.5766,
          5.5456,
          5.5456,
          5.5025,
          5.5025,
          5.4008,
          5.4008,
          5.2786,
          5.2786,
          5.0355,
          5.0355,
          5.0343,
          5.0343,
          5.0074,
          5.0074,
          4.9773,
          4.9773,
          4.559,
          4.559,
          4.5531,
          4.5531,
          4.4723,
          4.4723,
          4.3365,
          4.3365,
          4.2533,
          4.2533,
          4.0431,
          4.0431,
          3.9431,
          3.9431,
          3.7569,
          3.7569,
          3.4891,
          3.4891,
          2.924,
          2.924,
          2.3382,
          2.3382,
          2.1824,
          2.1824,
          1.8521,
          1.8521,
          1.7472,
          1.7472
         ]
        }
       ],
       "layout": {
        "coloraxis": {
         "colorbar": {
          "title": {
           "text": "antecedent support"
          }
         },
         "colorscale": [
          [
           0,
           "#0d0887"
          ],
          [
           0.1111111111111111,
           "#46039f"
          ],
          [
           0.2222222222222222,
           "#7201a8"
          ],
          [
           0.3333333333333333,
           "#9c179e"
          ],
          [
           0.4444444444444444,
           "#bd3786"
          ],
          [
           0.5555555555555556,
           "#d8576b"
          ],
          [
           0.6666666666666666,
           "#ed7953"
          ],
          [
           0.7777777777777778,
           "#fb9f3a"
          ],
          [
           0.8888888888888888,
           "#fdca26"
          ],
          [
           1,
           "#f0f921"
          ]
         ]
        },
        "height": 800,
        "legend": {
         "tracegroupgap": 0
        },
        "scene": {
         "domain": {
          "x": [
           0,
           1
          ],
          "y": [
           0,
           1
          ]
         },
         "xaxis": {
          "title": {
           "text": "support"
          }
         },
         "yaxis": {
          "title": {
           "text": "confidence"
          }
         },
         "zaxis": {
          "title": {
           "text": "lift"
          }
         }
        },
        "template": {
         "data": {
          "bar": [
           {
            "error_x": {
             "color": "#2a3f5f"
            },
            "error_y": {
             "color": "#2a3f5f"
            },
            "marker": {
             "line": {
              "color": "#E5ECF6",
              "width": 0.5
             },
             "pattern": {
              "fillmode": "overlay",
              "size": 10,
              "solidity": 0.2
             }
            },
            "type": "bar"
           }
          ],
          "barpolar": [
           {
            "marker": {
             "line": {
              "color": "#E5ECF6",
              "width": 0.5
             },
             "pattern": {
              "fillmode": "overlay",
              "size": 10,
              "solidity": 0.2
             }
            },
            "type": "barpolar"
           }
          ],
          "carpet": [
           {
            "aaxis": {
             "endlinecolor": "#2a3f5f",
             "gridcolor": "white",
             "linecolor": "white",
             "minorgridcolor": "white",
             "startlinecolor": "#2a3f5f"
            },
            "baxis": {
             "endlinecolor": "#2a3f5f",
             "gridcolor": "white",
             "linecolor": "white",
             "minorgridcolor": "white",
             "startlinecolor": "#2a3f5f"
            },
            "type": "carpet"
           }
          ],
          "choropleth": [
           {
            "colorbar": {
             "outlinewidth": 0,
             "ticks": ""
            },
            "type": "choropleth"
           }
          ],
          "contour": [
           {
            "colorbar": {
             "outlinewidth": 0,
             "ticks": ""
            },
            "colorscale": [
             [
              0,
              "#0d0887"
             ],
             [
              0.1111111111111111,
              "#46039f"
             ],
             [
              0.2222222222222222,
              "#7201a8"
             ],
             [
              0.3333333333333333,
              "#9c179e"
             ],
             [
              0.4444444444444444,
              "#bd3786"
             ],
             [
              0.5555555555555556,
              "#d8576b"
             ],
             [
              0.6666666666666666,
              "#ed7953"
             ],
             [
              0.7777777777777778,
              "#fb9f3a"
             ],
             [
              0.8888888888888888,
              "#fdca26"
             ],
             [
              1,
              "#f0f921"
             ]
            ],
            "type": "contour"
           }
          ],
          "contourcarpet": [
           {
            "colorbar": {
             "outlinewidth": 0,
             "ticks": ""
            },
            "type": "contourcarpet"
           }
          ],
          "heatmap": [
           {
            "colorbar": {
             "outlinewidth": 0,
             "ticks": ""
            },
            "colorscale": [
             [
              0,
              "#0d0887"
             ],
             [
              0.1111111111111111,
              "#46039f"
             ],
             [
              0.2222222222222222,
              "#7201a8"
             ],
             [
              0.3333333333333333,
              "#9c179e"
             ],
             [
              0.4444444444444444,
              "#bd3786"
             ],
             [
              0.5555555555555556,
              "#d8576b"
             ],
             [
              0.6666666666666666,
              "#ed7953"
             ],
             [
              0.7777777777777778,
              "#fb9f3a"
             ],
             [
              0.8888888888888888,
              "#fdca26"
             ],
             [
              1,
              "#f0f921"
             ]
            ],
            "type": "heatmap"
           }
          ],
          "heatmapgl": [
           {
            "colorbar": {
             "outlinewidth": 0,
             "ticks": ""
            },
            "colorscale": [
             [
              0,
              "#0d0887"
             ],
             [
              0.1111111111111111,
              "#46039f"
             ],
             [
              0.2222222222222222,
              "#7201a8"
             ],
             [
              0.3333333333333333,
              "#9c179e"
             ],
             [
              0.4444444444444444,
              "#bd3786"
             ],
             [
              0.5555555555555556,
              "#d8576b"
             ],
             [
              0.6666666666666666,
              "#ed7953"
             ],
             [
              0.7777777777777778,
              "#fb9f3a"
             ],
             [
              0.8888888888888888,
              "#fdca26"
             ],
             [
              1,
              "#f0f921"
             ]
            ],
            "type": "heatmapgl"
           }
          ],
          "histogram": [
           {
            "marker": {
             "pattern": {
              "fillmode": "overlay",
              "size": 10,
              "solidity": 0.2
             }
            },
            "type": "histogram"
           }
          ],
          "histogram2d": [
           {
            "colorbar": {
             "outlinewidth": 0,
             "ticks": ""
            },
            "colorscale": [
             [
              0,
              "#0d0887"
             ],
             [
              0.1111111111111111,
              "#46039f"
             ],
             [
              0.2222222222222222,
              "#7201a8"
             ],
             [
              0.3333333333333333,
              "#9c179e"
             ],
             [
              0.4444444444444444,
              "#bd3786"
             ],
             [
              0.5555555555555556,
              "#d8576b"
             ],
             [
              0.6666666666666666,
              "#ed7953"
             ],
             [
              0.7777777777777778,
              "#fb9f3a"
             ],
             [
              0.8888888888888888,
              "#fdca26"
             ],
             [
              1,
              "#f0f921"
             ]
            ],
            "type": "histogram2d"
           }
          ],
          "histogram2dcontour": [
           {
            "colorbar": {
             "outlinewidth": 0,
             "ticks": ""
            },
            "colorscale": [
             [
              0,
              "#0d0887"
             ],
             [
              0.1111111111111111,
              "#46039f"
             ],
             [
              0.2222222222222222,
              "#7201a8"
             ],
             [
              0.3333333333333333,
              "#9c179e"
             ],
             [
              0.4444444444444444,
              "#bd3786"
             ],
             [
              0.5555555555555556,
              "#d8576b"
             ],
             [
              0.6666666666666666,
              "#ed7953"
             ],
             [
              0.7777777777777778,
              "#fb9f3a"
             ],
             [
              0.8888888888888888,
              "#fdca26"
             ],
             [
              1,
              "#f0f921"
             ]
            ],
            "type": "histogram2dcontour"
           }
          ],
          "mesh3d": [
           {
            "colorbar": {
             "outlinewidth": 0,
             "ticks": ""
            },
            "type": "mesh3d"
           }
          ],
          "parcoords": [
           {
            "line": {
             "colorbar": {
              "outlinewidth": 0,
              "ticks": ""
             }
            },
            "type": "parcoords"
           }
          ],
          "pie": [
           {
            "automargin": true,
            "type": "pie"
           }
          ],
          "scatter": [
           {
            "marker": {
             "colorbar": {
              "outlinewidth": 0,
              "ticks": ""
             }
            },
            "type": "scatter"
           }
          ],
          "scatter3d": [
           {
            "line": {
             "colorbar": {
              "outlinewidth": 0,
              "ticks": ""
             }
            },
            "marker": {
             "colorbar": {
              "outlinewidth": 0,
              "ticks": ""
             }
            },
            "type": "scatter3d"
           }
          ],
          "scattercarpet": [
           {
            "marker": {
             "colorbar": {
              "outlinewidth": 0,
              "ticks": ""
             }
            },
            "type": "scattercarpet"
           }
          ],
          "scattergeo": [
           {
            "marker": {
             "colorbar": {
              "outlinewidth": 0,
              "ticks": ""
             }
            },
            "type": "scattergeo"
           }
          ],
          "scattergl": [
           {
            "marker": {
             "colorbar": {
              "outlinewidth": 0,
              "ticks": ""
             }
            },
            "type": "scattergl"
           }
          ],
          "scattermapbox": [
           {
            "marker": {
             "colorbar": {
              "outlinewidth": 0,
              "ticks": ""
             }
            },
            "type": "scattermapbox"
           }
          ],
          "scatterpolar": [
           {
            "marker": {
             "colorbar": {
              "outlinewidth": 0,
              "ticks": ""
             }
            },
            "type": "scatterpolar"
           }
          ],
          "scatterpolargl": [
           {
            "marker": {
             "colorbar": {
              "outlinewidth": 0,
              "ticks": ""
             }
            },
            "type": "scatterpolargl"
           }
          ],
          "scatterternary": [
           {
            "marker": {
             "colorbar": {
              "outlinewidth": 0,
              "ticks": ""
             }
            },
            "type": "scatterternary"
           }
          ],
          "surface": [
           {
            "colorbar": {
             "outlinewidth": 0,
             "ticks": ""
            },
            "colorscale": [
             [
              0,
              "#0d0887"
             ],
             [
              0.1111111111111111,
              "#46039f"
             ],
             [
              0.2222222222222222,
              "#7201a8"
             ],
             [
              0.3333333333333333,
              "#9c179e"
             ],
             [
              0.4444444444444444,
              "#bd3786"
             ],
             [
              0.5555555555555556,
              "#d8576b"
             ],
             [
              0.6666666666666666,
              "#ed7953"
             ],
             [
              0.7777777777777778,
              "#fb9f3a"
             ],
             [
              0.8888888888888888,
              "#fdca26"
             ],
             [
              1,
              "#f0f921"
             ]
            ],
            "type": "surface"
           }
          ],
          "table": [
           {
            "cells": {
             "fill": {
              "color": "#EBF0F8"
             },
             "line": {
              "color": "white"
             }
            },
            "header": {
             "fill": {
              "color": "#C8D4E3"
             },
             "line": {
              "color": "white"
             }
            },
            "type": "table"
           }
          ]
         },
         "layout": {
          "annotationdefaults": {
           "arrowcolor": "#2a3f5f",
           "arrowhead": 0,
           "arrowwidth": 1
          },
          "autotypenumbers": "strict",
          "coloraxis": {
           "colorbar": {
            "outlinewidth": 0,
            "ticks": ""
           }
          },
          "colorscale": {
           "diverging": [
            [
             0,
             "#8e0152"
            ],
            [
             0.1,
             "#c51b7d"
            ],
            [
             0.2,
             "#de77ae"
            ],
            [
             0.3,
             "#f1b6da"
            ],
            [
             0.4,
             "#fde0ef"
            ],
            [
             0.5,
             "#f7f7f7"
            ],
            [
             0.6,
             "#e6f5d0"
            ],
            [
             0.7,
             "#b8e186"
            ],
            [
             0.8,
             "#7fbc41"
            ],
            [
             0.9,
             "#4d9221"
            ],
            [
             1,
             "#276419"
            ]
           ],
           "sequential": [
            [
             0,
             "#0d0887"
            ],
            [
             0.1111111111111111,
             "#46039f"
            ],
            [
             0.2222222222222222,
             "#7201a8"
            ],
            [
             0.3333333333333333,
             "#9c179e"
            ],
            [
             0.4444444444444444,
             "#bd3786"
            ],
            [
             0.5555555555555556,
             "#d8576b"
            ],
            [
             0.6666666666666666,
             "#ed7953"
            ],
            [
             0.7777777777777778,
             "#fb9f3a"
            ],
            [
             0.8888888888888888,
             "#fdca26"
            ],
            [
             1,
             "#f0f921"
            ]
           ],
           "sequentialminus": [
            [
             0,
             "#0d0887"
            ],
            [
             0.1111111111111111,
             "#46039f"
            ],
            [
             0.2222222222222222,
             "#7201a8"
            ],
            [
             0.3333333333333333,
             "#9c179e"
            ],
            [
             0.4444444444444444,
             "#bd3786"
            ],
            [
             0.5555555555555556,
             "#d8576b"
            ],
            [
             0.6666666666666666,
             "#ed7953"
            ],
            [
             0.7777777777777778,
             "#fb9f3a"
            ],
            [
             0.8888888888888888,
             "#fdca26"
            ],
            [
             1,
             "#f0f921"
            ]
           ]
          },
          "colorway": [
           "#636efa",
           "#EF553B",
           "#00cc96",
           "#ab63fa",
           "#FFA15A",
           "#19d3f3",
           "#FF6692",
           "#B6E880",
           "#FF97FF",
           "#FECB52"
          ],
          "font": {
           "color": "#2a3f5f"
          },
          "geo": {
           "bgcolor": "white",
           "lakecolor": "white",
           "landcolor": "#E5ECF6",
           "showlakes": true,
           "showland": true,
           "subunitcolor": "white"
          },
          "hoverlabel": {
           "align": "left"
          },
          "hovermode": "closest",
          "mapbox": {
           "style": "light"
          },
          "paper_bgcolor": "white",
          "plot_bgcolor": "#E5ECF6",
          "polar": {
           "angularaxis": {
            "gridcolor": "white",
            "linecolor": "white",
            "ticks": ""
           },
           "bgcolor": "#E5ECF6",
           "radialaxis": {
            "gridcolor": "white",
            "linecolor": "white",
            "ticks": ""
           }
          },
          "scene": {
           "xaxis": {
            "backgroundcolor": "#E5ECF6",
            "gridcolor": "white",
            "gridwidth": 2,
            "linecolor": "white",
            "showbackground": true,
            "ticks": "",
            "zerolinecolor": "white"
           },
           "yaxis": {
            "backgroundcolor": "#E5ECF6",
            "gridcolor": "white",
            "gridwidth": 2,
            "linecolor": "white",
            "showbackground": true,
            "ticks": "",
            "zerolinecolor": "white"
           },
           "zaxis": {
            "backgroundcolor": "#E5ECF6",
            "gridcolor": "white",
            "gridwidth": 2,
            "linecolor": "white",
            "showbackground": true,
            "ticks": "",
            "zerolinecolor": "white"
           }
          },
          "shapedefaults": {
           "line": {
            "color": "#2a3f5f"
           }
          },
          "ternary": {
           "aaxis": {
            "gridcolor": "white",
            "linecolor": "white",
            "ticks": ""
           },
           "baxis": {
            "gridcolor": "white",
            "linecolor": "white",
            "ticks": ""
           },
           "bgcolor": "#E5ECF6",
           "caxis": {
            "gridcolor": "white",
            "linecolor": "white",
            "ticks": ""
           }
          },
          "title": {
           "x": 0.05
          },
          "xaxis": {
           "automargin": true,
           "gridcolor": "white",
           "linecolor": "white",
           "ticks": "",
           "title": {
            "standoff": 15
           },
           "zerolinecolor": "white",
           "zerolinewidth": 2
          },
          "yaxis": {
           "automargin": true,
           "gridcolor": "white",
           "linecolor": "white",
           "ticks": "",
           "title": {
            "standoff": 15
           },
           "zerolinecolor": "white",
           "zerolinewidth": 2
          }
         }
        },
        "title": {
         "text": "3d Plot for Rule Mining"
        },
        "width": 900
       }
      },
      "text/html": [
       "<div>                            <div id=\"bd4d3e58-ea9b-40df-b754-df3b16542980\" class=\"plotly-graph-div\" style=\"height:800px; width:900px;\"></div>            <script type=\"text/javascript\">                require([\"plotly\"], function(Plotly) {                    window.PLOTLYENV=window.PLOTLYENV || {};                                    if (document.getElementById(\"bd4d3e58-ea9b-40df-b754-df3b16542980\")) {                    Plotly.newPlot(                        \"bd4d3e58-ea9b-40df-b754-df3b16542980\",                        [{\"customdata\":[[\"PINK REGENCY TEACUP AND SAUCER\",\"ROSES REGENCY TEACUP AND SAUCER \"],[\"ROSES REGENCY TEACUP AND SAUCER \",\"PINK REGENCY TEACUP AND SAUCER\"],[\"ALARM CLOCK BAKELIKE RED \",\"ALARM CLOCK BAKELIKE GREEN\"],[\"ALARM CLOCK BAKELIKE GREEN\",\"ALARM CLOCK BAKELIKE RED \"],[\"ROSES REGENCY TEACUP AND SAUCER \",\"GREEN REGENCY TEACUP AND SAUCER\"],[\"GREEN REGENCY TEACUP AND SAUCER\",\"ROSES REGENCY TEACUP AND SAUCER \"],[\"GREEN REGENCY TEACUP AND SAUCER\",\"PINK REGENCY TEACUP AND SAUCER\"],[\"PINK REGENCY TEACUP AND SAUCER\",\"GREEN REGENCY TEACUP AND SAUCER\"],[\"GARDENERS KNEELING PAD CUP OF TEA \",\"GARDENERS KNEELING PAD KEEP CALM \"],[\"GARDENERS KNEELING PAD KEEP CALM \",\"GARDENERS KNEELING PAD CUP OF TEA \"],[\"WOODEN HEART CHRISTMAS SCANDINAVIAN\",\"WOODEN STAR CHRISTMAS SCANDINAVIAN\"],[\"WOODEN STAR CHRISTMAS SCANDINAVIAN\",\"WOODEN HEART CHRISTMAS SCANDINAVIAN\"],[\"ROSES REGENCY TEACUP AND SAUCER \",\"GREEN REGENCY TEACUP AND SAUCER\"],[\"GREEN REGENCY TEACUP AND SAUCER\",\"ROSES REGENCY TEACUP AND SAUCER \"],[\"PINK REGENCY TEACUP AND SAUCER\",\"ROSES REGENCY TEACUP AND SAUCER \"],[\"ROSES REGENCY TEACUP AND SAUCER \",\"PINK REGENCY TEACUP AND SAUCER\"],[\"GREEN REGENCY TEACUP AND SAUCER\",\"ROSES REGENCY TEACUP AND SAUCER \"],[\"ROSES REGENCY TEACUP AND SAUCER \",\"GREEN REGENCY TEACUP AND SAUCER\"],[\"WOODEN PICTURE FRAME WHITE FINISH\",\"WOODEN FRAME ANTIQUE WHITE \"],[\"WOODEN FRAME ANTIQUE WHITE \",\"WOODEN PICTURE FRAME WHITE FINISH\"],[\"LUNCH BAG WOODLAND\",\"LUNCH BAG SPACEBOY DESIGN \"],[\"LUNCH BAG SPACEBOY DESIGN \",\"LUNCH BAG WOODLAND\"],[\"LUNCH BAG SUKI DESIGN \",\"LUNCH BAG CARS BLUE\"],[\"LUNCH BAG CARS BLUE\",\"LUNCH BAG SUKI DESIGN \"],[\"LUNCH BAG  BLACK SKULL.\",\"LUNCH BAG SUKI DESIGN \"],[\"LUNCH BAG SUKI DESIGN \",\"LUNCH BAG  BLACK SKULL.\"],[\"LUNCH BAG SUKI DESIGN \",\"LUNCH BAG SPACEBOY DESIGN \"],[\"LUNCH BAG SPACEBOY DESIGN \",\"LUNCH BAG SUKI DESIGN \"],[\"LUNCH BAG PINK POLKADOT\",\"LUNCH BAG  BLACK SKULL.\"],[\"LUNCH BAG  BLACK SKULL.\",\"LUNCH BAG PINK POLKADOT\"],[\"LUNCH BAG CARS BLUE\",\"LUNCH BAG PINK POLKADOT\"],[\"LUNCH BAG PINK POLKADOT\",\"LUNCH BAG CARS BLUE\"],[\"LUNCH BAG WOODLAND\",\"LUNCH BAG CARS BLUE\"],[\"LUNCH BAG CARS BLUE\",\"LUNCH BAG WOODLAND\"],[\"LUNCH BAG WOODLAND\",\"LUNCH BAG RED RETROSPOT\"],[\"LUNCH BAG RED RETROSPOT\",\"LUNCH BAG WOODLAND\"],[\"LUNCH BAG RED RETROSPOT\",\"LUNCH BAG  BLACK SKULL.\"],[\"LUNCH BAG  BLACK SKULL.\",\"LUNCH BAG RED RETROSPOT\"],[\"JUMBO BAG STRAWBERRY\",\"JUMBO BAG RED RETROSPOT\"],[\"JUMBO BAG RED RETROSPOT\",\"JUMBO BAG STRAWBERRY\"],[\"LUNCH BAG RED RETROSPOT\",\"LUNCH BAG SUKI DESIGN \"],[\"LUNCH BAG SUKI DESIGN \",\"LUNCH BAG RED RETROSPOT\"],[\"LUNCH BAG RED RETROSPOT\",\"LUNCH BAG PINK POLKADOT\"],[\"LUNCH BAG PINK POLKADOT\",\"LUNCH BAG RED RETROSPOT\"],[\"JUMBO BAG RED RETROSPOT\",\"JUMBO BAG PINK POLKADOT\"],[\"JUMBO BAG PINK POLKADOT\",\"JUMBO BAG RED RETROSPOT\"],[\"PAPER CHAIN KIT VINTAGE CHRISTMAS\",\"S CHRISTMAS \\\"})\"],[\"S CHRISTMAS \\\"})\",\"PAPER CHAIN KIT VINTAGE CHRISTMAS\"],[\"LUNCH BAG RED RETROSPOT\",\"LUNCH BAG CARS BLUE\"],[\"LUNCH BAG CARS BLUE\",\"LUNCH BAG RED RETROSPOT\"],[\"LUNCH BAG SPACEBOY DESIGN \",\"LUNCH BAG  BLACK SKULL.\"],[\"LUNCH BAG  BLACK SKULL.\",\"LUNCH BAG SPACEBOY DESIGN \"],[\"LUNCH BAG SPACEBOY DESIGN \",\"LUNCH BAG CARS BLUE\"],[\"LUNCH BAG CARS BLUE\",\"LUNCH BAG SPACEBOY DESIGN \"],[\"LUNCH BAG APPLE DESIGN\",\"LUNCH BAG RED RETROSPOT\"],[\"LUNCH BAG RED RETROSPOT\",\"LUNCH BAG APPLE DESIGN\"],[\"LUNCH BAG PINK POLKADOT\",\"LUNCH BAG SPACEBOY DESIGN \"],[\"LUNCH BAG SPACEBOY DESIGN \",\"LUNCH BAG PINK POLKADOT\"],[\"LUNCH BAG CARS BLUE\",\"LUNCH BAG  BLACK SKULL.\"],[\"LUNCH BAG  BLACK SKULL.\",\"LUNCH BAG CARS BLUE\"],[\"LUNCH BAG RED RETROSPOT\",\"LUNCH BAG SPACEBOY DESIGN \"],[\"LUNCH BAG SPACEBOY DESIGN \",\"LUNCH BAG RED RETROSPOT\"],[\"JUMBO BAG APPLES\",\"JUMBO BAG RED RETROSPOT\"],[\"JUMBO BAG RED RETROSPOT\",\"JUMBO BAG APPLES\"],[\"SET OF 6 SPICE TINS PANTRY DESIGN\",\"SET OF 3 CAKE TINS PANTRY DESIGN \"],[\"SET OF 3 CAKE TINS PANTRY DESIGN \",\"SET OF 6 SPICE TINS PANTRY DESIGN\"],[\"PACK OF 60 PINK PAISLEY CAKE CASES\",\"PACK OF 72 RETROSPOT CAKE CASES\"],[\"PACK OF 72 RETROSPOT CAKE CASES\",\"PACK OF 60 PINK PAISLEY CAKE CASES\"],[\"HEART OF WICKER SMALL\",\"HEART OF WICKER LARGE\"],[\"HEART OF WICKER LARGE\",\"HEART OF WICKER SMALL\"],[\"60 TEATIME FAIRY CAKE CASES\",\"PACK OF 72 RETROSPOT CAKE CASES\"],[\"PACK OF 72 RETROSPOT CAKE CASES\",\"60 TEATIME FAIRY CAKE CASES\"],[\"JUMBO BAG VINTAGE DOILY \",\"JUMBO BAG RED RETROSPOT\"],[\"JUMBO BAG RED RETROSPOT\",\"JUMBO BAG VINTAGE DOILY \"],[\"REGENCY CAKESTAND 3 TIER\",\"GREEN REGENCY TEACUP AND SAUCER\"],[\"GREEN REGENCY TEACUP AND SAUCER\",\"REGENCY CAKESTAND 3 TIER\"],[\"JUMBO BAG RED RETROSPOT\",\"JUMBO BAG ALPHABET\"],[\"JUMBO BAG ALPHABET\",\"JUMBO BAG RED RETROSPOT\"],[\"REGENCY CAKESTAND 3 TIER\",\"ROSES REGENCY TEACUP AND SAUCER \"],[\"ROSES REGENCY TEACUP AND SAUCER \",\"REGENCY CAKESTAND 3 TIER\"],[\"RECIPE BOX PANTRY YELLOW DESIGN\",\"SET OF 3 CAKE TINS PANTRY DESIGN \"],[\"SET OF 3 CAKE TINS PANTRY DESIGN \",\"RECIPE BOX PANTRY YELLOW DESIGN\"],[\"RED HANGING HEART T-LIGHT HOLDER\",\"WHITE HANGING HEART T-LIGHT HOLDER\"],[\"WHITE HANGING HEART T-LIGHT HOLDER\",\"RED HANGING HEART T-LIGHT HOLDER\"],[\"JAM MAKING SET WITH JARS\",\"JAM MAKING SET PRINTED\"],[\"JAM MAKING SET PRINTED\",\"JAM MAKING SET WITH JARS\"],[\"LUNCH BAG RED RETROSPOT\",\"JUMBO BAG RED RETROSPOT\"],[\"JUMBO BAG RED RETROSPOT\",\"LUNCH BAG RED RETROSPOT\"],[\"SET OF 3 REGENCY CAKE TINS\",\"REGENCY CAKESTAND 3 TIER\"],[\"REGENCY CAKESTAND 3 TIER\",\"SET OF 3 REGENCY CAKE TINS\"],[\"SPOTTY BUNTING\",\"PARTY BUNTING\"],[\"PARTY BUNTING\",\"SPOTTY BUNTING\"],[\"HEART OF WICKER LARGE\",\"WHITE HANGING HEART T-LIGHT HOLDER\"],[\"WHITE HANGING HEART T-LIGHT HOLDER\",\"HEART OF WICKER LARGE\"],[\"WHITE HANGING HEART T-LIGHT HOLDER\",\"HEART OF WICKER SMALL\"],[\"HEART OF WICKER SMALL\",\"WHITE HANGING HEART T-LIGHT HOLDER\"],[\"WHITE HANGING HEART T-LIGHT HOLDER\",\"NATURAL SLATE HEART CHALKBOARD \"],[\"NATURAL SLATE HEART CHALKBOARD \",\"WHITE HANGING HEART T-LIGHT HOLDER\"],[\"WHITE HANGING HEART T-LIGHT HOLDER\",\"PARTY BUNTING\"],[\"PARTY BUNTING\",\"WHITE HANGING HEART T-LIGHT HOLDER\"],[\"WHITE HANGING HEART T-LIGHT HOLDER\",\"ASSORTED COLOUR BIRD ORNAMENT\"],[\"ASSORTED COLOUR BIRD ORNAMENT\",\"WHITE HANGING HEART T-LIGHT HOLDER\"]],\"hovertemplate\":\"support=%{x}<br>confidence=%{y}<br>lift=%{z}<br>antecedents=%{customdata[0]}<br>consequents=%{customdata[1]}<br>antecedent support=%{marker.color}<extra></extra>\",\"legendgroup\":\"\",\"marker\":{\"color\":[0.0672,0.067,0.0719,0.0598,0.0573,0.0813,0.0813,0.0672,0.0691,0.0786,0.0772,0.0746,0.0908,0.0617,0.0672,0.0908,0.0813,0.0908,0.0892,0.0841,0.0793,0.0989,0.0839,0.1024,0.0957,0.0839,0.0839,0.0989,0.0943,0.0957,0.1024,0.0943,0.0793,0.1024,0.0793,0.1125,0.1125,0.0957,0.0635,0.1354,0.1125,0.0839,0.1125,0.0943,0.1354,0.0783,0.0945,0.1229,0.1125,0.1024,0.0989,0.0957,0.0989,0.1024,0.086,0.1125,0.0943,0.0989,0.1024,0.0957,0.1125,0.0989,0.0739,0.1354,0.0762,0.1303,0.0839,0.1324,0.1262,0.1,0.0829,0.1324,0.0744,0.1354,0.1439,0.0813,0.1354,0.0813,0.1439,0.0908,0.0887,0.1303,0.0797,0.1888,0.1148,0.1165,0.1125,0.1354,0.0991,0.1439,0.1195,0.1513,0.1,0.1888,0.1888,0.1262,0.1888,0.1273,0.1888,0.1513,0.1888,0.1534],\"coloraxis\":\"coloraxis\",\"opacity\":0.7,\"symbol\":\"circle\"},\"mode\":\"markers\",\"name\":\"\",\"scene\":\"scene\",\"showlegend\":false,\"type\":\"scatter3d\",\"x\":[0.0545,0.0545,0.0515,0.0515,0.0545,0.0545,0.0617,0.0617,0.0531,0.0531,0.0561,0.0561,0.0545,0.0545,0.0573,0.0573,0.067,0.067,0.0594,0.0594,0.0536,0.0536,0.0564,0.0564,0.0524,0.0524,0.0534,0.0534,0.058,0.058,0.061,0.061,0.0501,0.0501,0.0534,0.0534,0.0638,0.0638,0.0508,0.0508,0.0552,0.0552,0.0619,0.0619,0.0617,0.0617,0.0675,0.0675,0.0656,0.0656,0.0534,0.0534,0.0571,0.0571,0.0541,0.0541,0.052,0.052,0.0543,0.0543,0.0612,0.0612,0.0541,0.0541,0.0524,0.0524,0.0559,0.0559,0.0635,0.0635,0.055,0.055,0.0501,0.0501,0.0534,0.0534,0.0501,0.0501,0.0585,0.0585,0.0501,0.0501,0.064,0.064,0.0541,0.0541,0.0601,0.0601,0.0536,0.0536,0.0631,0.0631,0.0552,0.0552,0.0557,0.0557,0.0524,0.0524,0.0529,0.0529,0.0506,0.0506],\"y\":[0.811,0.8138,0.717,0.861,0.9516,0.6705,0.7585,0.9175,0.7692,0.6765,0.7275,0.7523,0.6005,0.8839,0.8522,0.631,0.8239,0.7379,0.6658,0.706,0.6764,0.5421,0.6722,0.5508,0.5483,0.6253,0.6364,0.5397,0.6152,0.6063,0.5959,0.6471,0.6327,0.4898,0.6735,0.4743,0.5667,0.6667,0.8,0.3754,0.4908,0.6584,0.5503,0.6569,0.4556,0.7876,0.7139,0.5489,0.5832,0.6411,0.5397,0.558,0.5771,0.5576,0.629,0.4805,0.5515,0.5257,0.5305,0.5676,0.5441,0.6192,0.7312,0.3993,0.6879,0.4025,0.6667,0.4223,0.5037,0.6351,0.663,0.4154,0.6739,0.3703,0.3708,0.6562,0.3703,0.6165,0.4061,0.6438,0.5651,0.3848,0.8029,0.339,0.4708,0.4643,0.5339,0.4437,0.5408,0.3724,0.528,0.4168,0.552,0.2925,0.295,0.4414,0.2778,0.412,0.2803,0.3496,0.2681,0.3298],\"z\":[12.1034,12.1034,11.9821,11.9821,11.7005,11.7005,11.2814,11.2814,9.7919,9.7919,9.7487,9.7487,9.7341,9.7341,9.3854,9.3854,9.073,9.073,7.9165,7.9165,6.8397,6.8397,6.567,6.567,6.5374,6.5374,6.435,6.435,6.4313,6.4313,6.3216,6.3216,6.1809,6.1809,5.9852,5.9852,5.9247,5.9247,5.9085,5.9085,5.8513,5.8513,5.8376,5.8376,5.817,5.817,5.8081,5.8081,5.6974,5.6974,5.6423,5.6423,5.6382,5.6382,5.5902,5.5902,5.5766,5.5766,5.5456,5.5456,5.5025,5.5025,5.4008,5.4008,5.2786,5.2786,5.0355,5.0355,5.0343,5.0343,5.0074,5.0074,4.9773,4.9773,4.559,4.559,4.5531,4.5531,4.4723,4.4723,4.3365,4.3365,4.2533,4.2533,4.0431,4.0431,3.9431,3.9431,3.7569,3.7569,3.4891,3.4891,2.924,2.924,2.3382,2.3382,2.1824,2.1824,1.8521,1.8521,1.7472,1.7472]}],                        {\"coloraxis\":{\"colorbar\":{\"title\":{\"text\":\"antecedent support\"}},\"colorscale\":[[0.0,\"#0d0887\"],[0.1111111111111111,\"#46039f\"],[0.2222222222222222,\"#7201a8\"],[0.3333333333333333,\"#9c179e\"],[0.4444444444444444,\"#bd3786\"],[0.5555555555555556,\"#d8576b\"],[0.6666666666666666,\"#ed7953\"],[0.7777777777777778,\"#fb9f3a\"],[0.8888888888888888,\"#fdca26\"],[1.0,\"#f0f921\"]]},\"height\":800,\"legend\":{\"tracegroupgap\":0},\"scene\":{\"domain\":{\"x\":[0.0,1.0],\"y\":[0.0,1.0]},\"xaxis\":{\"title\":{\"text\":\"support\"}},\"yaxis\":{\"title\":{\"text\":\"confidence\"}},\"zaxis\":{\"title\":{\"text\":\"lift\"}}},\"template\":{\"data\":{\"bar\":[{\"error_x\":{\"color\":\"#2a3f5f\"},\"error_y\":{\"color\":\"#2a3f5f\"},\"marker\":{\"line\":{\"color\":\"#E5ECF6\",\"width\":0.5},\"pattern\":{\"fillmode\":\"overlay\",\"size\":10,\"solidity\":0.2}},\"type\":\"bar\"}],\"barpolar\":[{\"marker\":{\"line\":{\"color\":\"#E5ECF6\",\"width\":0.5},\"pattern\":{\"fillmode\":\"overlay\",\"size\":10,\"solidity\":0.2}},\"type\":\"barpolar\"}],\"carpet\":[{\"aaxis\":{\"endlinecolor\":\"#2a3f5f\",\"gridcolor\":\"white\",\"linecolor\":\"white\",\"minorgridcolor\":\"white\",\"startlinecolor\":\"#2a3f5f\"},\"baxis\":{\"endlinecolor\":\"#2a3f5f\",\"gridcolor\":\"white\",\"linecolor\":\"white\",\"minorgridcolor\":\"white\",\"startlinecolor\":\"#2a3f5f\"},\"type\":\"carpet\"}],\"choropleth\":[{\"colorbar\":{\"outlinewidth\":0,\"ticks\":\"\"},\"type\":\"choropleth\"}],\"contour\":[{\"colorbar\":{\"outlinewidth\":0,\"ticks\":\"\"},\"colorscale\":[[0.0,\"#0d0887\"],[0.1111111111111111,\"#46039f\"],[0.2222222222222222,\"#7201a8\"],[0.3333333333333333,\"#9c179e\"],[0.4444444444444444,\"#bd3786\"],[0.5555555555555556,\"#d8576b\"],[0.6666666666666666,\"#ed7953\"],[0.7777777777777778,\"#fb9f3a\"],[0.8888888888888888,\"#fdca26\"],[1.0,\"#f0f921\"]],\"type\":\"contour\"}],\"contourcarpet\":[{\"colorbar\":{\"outlinewidth\":0,\"ticks\":\"\"},\"type\":\"contourcarpet\"}],\"heatmap\":[{\"colorbar\":{\"outlinewidth\":0,\"ticks\":\"\"},\"colorscale\":[[0.0,\"#0d0887\"],[0.1111111111111111,\"#46039f\"],[0.2222222222222222,\"#7201a8\"],[0.3333333333333333,\"#9c179e\"],[0.4444444444444444,\"#bd3786\"],[0.5555555555555556,\"#d8576b\"],[0.6666666666666666,\"#ed7953\"],[0.7777777777777778,\"#fb9f3a\"],[0.8888888888888888,\"#fdca26\"],[1.0,\"#f0f921\"]],\"type\":\"heatmap\"}],\"heatmapgl\":[{\"colorbar\":{\"outlinewidth\":0,\"ticks\":\"\"},\"colorscale\":[[0.0,\"#0d0887\"],[0.1111111111111111,\"#46039f\"],[0.2222222222222222,\"#7201a8\"],[0.3333333333333333,\"#9c179e\"],[0.4444444444444444,\"#bd3786\"],[0.5555555555555556,\"#d8576b\"],[0.6666666666666666,\"#ed7953\"],[0.7777777777777778,\"#fb9f3a\"],[0.8888888888888888,\"#fdca26\"],[1.0,\"#f0f921\"]],\"type\":\"heatmapgl\"}],\"histogram\":[{\"marker\":{\"pattern\":{\"fillmode\":\"overlay\",\"size\":10,\"solidity\":0.2}},\"type\":\"histogram\"}],\"histogram2d\":[{\"colorbar\":{\"outlinewidth\":0,\"ticks\":\"\"},\"colorscale\":[[0.0,\"#0d0887\"],[0.1111111111111111,\"#46039f\"],[0.2222222222222222,\"#7201a8\"],[0.3333333333333333,\"#9c179e\"],[0.4444444444444444,\"#bd3786\"],[0.5555555555555556,\"#d8576b\"],[0.6666666666666666,\"#ed7953\"],[0.7777777777777778,\"#fb9f3a\"],[0.8888888888888888,\"#fdca26\"],[1.0,\"#f0f921\"]],\"type\":\"histogram2d\"}],\"histogram2dcontour\":[{\"colorbar\":{\"outlinewidth\":0,\"ticks\":\"\"},\"colorscale\":[[0.0,\"#0d0887\"],[0.1111111111111111,\"#46039f\"],[0.2222222222222222,\"#7201a8\"],[0.3333333333333333,\"#9c179e\"],[0.4444444444444444,\"#bd3786\"],[0.5555555555555556,\"#d8576b\"],[0.6666666666666666,\"#ed7953\"],[0.7777777777777778,\"#fb9f3a\"],[0.8888888888888888,\"#fdca26\"],[1.0,\"#f0f921\"]],\"type\":\"histogram2dcontour\"}],\"mesh3d\":[{\"colorbar\":{\"outlinewidth\":0,\"ticks\":\"\"},\"type\":\"mesh3d\"}],\"parcoords\":[{\"line\":{\"colorbar\":{\"outlinewidth\":0,\"ticks\":\"\"}},\"type\":\"parcoords\"}],\"pie\":[{\"automargin\":true,\"type\":\"pie\"}],\"scatter\":[{\"marker\":{\"colorbar\":{\"outlinewidth\":0,\"ticks\":\"\"}},\"type\":\"scatter\"}],\"scatter3d\":[{\"line\":{\"colorbar\":{\"outlinewidth\":0,\"ticks\":\"\"}},\"marker\":{\"colorbar\":{\"outlinewidth\":0,\"ticks\":\"\"}},\"type\":\"scatter3d\"}],\"scattercarpet\":[{\"marker\":{\"colorbar\":{\"outlinewidth\":0,\"ticks\":\"\"}},\"type\":\"scattercarpet\"}],\"scattergeo\":[{\"marker\":{\"colorbar\":{\"outlinewidth\":0,\"ticks\":\"\"}},\"type\":\"scattergeo\"}],\"scattergl\":[{\"marker\":{\"colorbar\":{\"outlinewidth\":0,\"ticks\":\"\"}},\"type\":\"scattergl\"}],\"scattermapbox\":[{\"marker\":{\"colorbar\":{\"outlinewidth\":0,\"ticks\":\"\"}},\"type\":\"scattermapbox\"}],\"scatterpolar\":[{\"marker\":{\"colorbar\":{\"outlinewidth\":0,\"ticks\":\"\"}},\"type\":\"scatterpolar\"}],\"scatterpolargl\":[{\"marker\":{\"colorbar\":{\"outlinewidth\":0,\"ticks\":\"\"}},\"type\":\"scatterpolargl\"}],\"scatterternary\":[{\"marker\":{\"colorbar\":{\"outlinewidth\":0,\"ticks\":\"\"}},\"type\":\"scatterternary\"}],\"surface\":[{\"colorbar\":{\"outlinewidth\":0,\"ticks\":\"\"},\"colorscale\":[[0.0,\"#0d0887\"],[0.1111111111111111,\"#46039f\"],[0.2222222222222222,\"#7201a8\"],[0.3333333333333333,\"#9c179e\"],[0.4444444444444444,\"#bd3786\"],[0.5555555555555556,\"#d8576b\"],[0.6666666666666666,\"#ed7953\"],[0.7777777777777778,\"#fb9f3a\"],[0.8888888888888888,\"#fdca26\"],[1.0,\"#f0f921\"]],\"type\":\"surface\"}],\"table\":[{\"cells\":{\"fill\":{\"color\":\"#EBF0F8\"},\"line\":{\"color\":\"white\"}},\"header\":{\"fill\":{\"color\":\"#C8D4E3\"},\"line\":{\"color\":\"white\"}},\"type\":\"table\"}]},\"layout\":{\"annotationdefaults\":{\"arrowcolor\":\"#2a3f5f\",\"arrowhead\":0,\"arrowwidth\":1},\"autotypenumbers\":\"strict\",\"coloraxis\":{\"colorbar\":{\"outlinewidth\":0,\"ticks\":\"\"}},\"colorscale\":{\"diverging\":[[0,\"#8e0152\"],[0.1,\"#c51b7d\"],[0.2,\"#de77ae\"],[0.3,\"#f1b6da\"],[0.4,\"#fde0ef\"],[0.5,\"#f7f7f7\"],[0.6,\"#e6f5d0\"],[0.7,\"#b8e186\"],[0.8,\"#7fbc41\"],[0.9,\"#4d9221\"],[1,\"#276419\"]],\"sequential\":[[0.0,\"#0d0887\"],[0.1111111111111111,\"#46039f\"],[0.2222222222222222,\"#7201a8\"],[0.3333333333333333,\"#9c179e\"],[0.4444444444444444,\"#bd3786\"],[0.5555555555555556,\"#d8576b\"],[0.6666666666666666,\"#ed7953\"],[0.7777777777777778,\"#fb9f3a\"],[0.8888888888888888,\"#fdca26\"],[1.0,\"#f0f921\"]],\"sequentialminus\":[[0.0,\"#0d0887\"],[0.1111111111111111,\"#46039f\"],[0.2222222222222222,\"#7201a8\"],[0.3333333333333333,\"#9c179e\"],[0.4444444444444444,\"#bd3786\"],[0.5555555555555556,\"#d8576b\"],[0.6666666666666666,\"#ed7953\"],[0.7777777777777778,\"#fb9f3a\"],[0.8888888888888888,\"#fdca26\"],[1.0,\"#f0f921\"]]},\"colorway\":[\"#636efa\",\"#EF553B\",\"#00cc96\",\"#ab63fa\",\"#FFA15A\",\"#19d3f3\",\"#FF6692\",\"#B6E880\",\"#FF97FF\",\"#FECB52\"],\"font\":{\"color\":\"#2a3f5f\"},\"geo\":{\"bgcolor\":\"white\",\"lakecolor\":\"white\",\"landcolor\":\"#E5ECF6\",\"showlakes\":true,\"showland\":true,\"subunitcolor\":\"white\"},\"hoverlabel\":{\"align\":\"left\"},\"hovermode\":\"closest\",\"mapbox\":{\"style\":\"light\"},\"paper_bgcolor\":\"white\",\"plot_bgcolor\":\"#E5ECF6\",\"polar\":{\"angularaxis\":{\"gridcolor\":\"white\",\"linecolor\":\"white\",\"ticks\":\"\"},\"bgcolor\":\"#E5ECF6\",\"radialaxis\":{\"gridcolor\":\"white\",\"linecolor\":\"white\",\"ticks\":\"\"}},\"scene\":{\"xaxis\":{\"backgroundcolor\":\"#E5ECF6\",\"gridcolor\":\"white\",\"gridwidth\":2,\"linecolor\":\"white\",\"showbackground\":true,\"ticks\":\"\",\"zerolinecolor\":\"white\"},\"yaxis\":{\"backgroundcolor\":\"#E5ECF6\",\"gridcolor\":\"white\",\"gridwidth\":2,\"linecolor\":\"white\",\"showbackground\":true,\"ticks\":\"\",\"zerolinecolor\":\"white\"},\"zaxis\":{\"backgroundcolor\":\"#E5ECF6\",\"gridcolor\":\"white\",\"gridwidth\":2,\"linecolor\":\"white\",\"showbackground\":true,\"ticks\":\"\",\"zerolinecolor\":\"white\"}},\"shapedefaults\":{\"line\":{\"color\":\"#2a3f5f\"}},\"ternary\":{\"aaxis\":{\"gridcolor\":\"white\",\"linecolor\":\"white\",\"ticks\":\"\"},\"baxis\":{\"gridcolor\":\"white\",\"linecolor\":\"white\",\"ticks\":\"\"},\"bgcolor\":\"#E5ECF6\",\"caxis\":{\"gridcolor\":\"white\",\"linecolor\":\"white\",\"ticks\":\"\"}},\"title\":{\"x\":0.05},\"xaxis\":{\"automargin\":true,\"gridcolor\":\"white\",\"linecolor\":\"white\",\"ticks\":\"\",\"title\":{\"standoff\":15},\"zerolinecolor\":\"white\",\"zerolinewidth\":2},\"yaxis\":{\"automargin\":true,\"gridcolor\":\"white\",\"linecolor\":\"white\",\"ticks\":\"\",\"title\":{\"standoff\":15},\"zerolinecolor\":\"white\",\"zerolinewidth\":2}}},\"title\":{\"text\":\"3d Plot for Rule Mining\"},\"width\":900},                        {\"responsive\": true}                    ).then(function(){\n",
       "                            \n",
       "var gd = document.getElementById('bd4d3e58-ea9b-40df-b754-df3b16542980');\n",
       "var x = new MutationObserver(function (mutations, observer) {{\n",
       "        var display = window.getComputedStyle(gd).display;\n",
       "        if (!display || display === 'none') {{\n",
       "            console.log([gd, 'removed!']);\n",
       "            Plotly.purge(gd);\n",
       "            observer.disconnect();\n",
       "        }}\n",
       "}});\n",
       "\n",
       "// Listen for the removal of the full notebook cells\n",
       "var notebookContainer = gd.closest('#notebook-container');\n",
       "if (notebookContainer) {{\n",
       "    x.observe(notebookContainer, {childList: true});\n",
       "}}\n",
       "\n",
       "// Listen for the clearing of the current output cell\n",
       "var outputEl = gd.closest('.output');\n",
       "if (outputEl) {{\n",
       "    x.observe(outputEl, {childList: true});\n",
       "}}\n",
       "\n",
       "                        })                };                });            </script>        </div>"
      ]
     },
     "metadata": {},
     "output_type": "display_data"
    }
   ],
   "source": [
    "from pycaret.arules import *\n",
    "exp = setup(data=df, transaction_id = 'CustomerID', item_id = 'Description')\n",
    "rule = create_model(metric='lift', threshold=1, min_support=.05)\n",
    "plot_model(rule, plot='3d')"
   ]
  },
  {
   "cell_type": "code",
   "execution_count": null,
   "metadata": {},
   "outputs": [],
   "source": []
  }
 ],
 "metadata": {
  "colab": {
   "name": "Preprocessing_And_Modeling_Casptone_Three.ipynb",
   "provenance": [],
   "toc_visible": true
  },
  "kernelspec": {
   "display_name": "Python 3 (ipykernel)",
   "language": "python",
   "name": "python3"
  },
  "language_info": {
   "codemirror_mode": {
    "name": "ipython",
    "version": 3
   },
   "file_extension": ".py",
   "mimetype": "text/x-python",
   "name": "python",
   "nbconvert_exporter": "python",
   "pygments_lexer": "ipython3",
   "version": "3.8.2"
  }
 },
 "nbformat": 4,
 "nbformat_minor": 1
}
